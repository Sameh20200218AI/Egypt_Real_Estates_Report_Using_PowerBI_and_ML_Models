{
 "cells": [
  {
   "cell_type": "markdown",
   "id": "e7181635",
   "metadata": {},
   "source": [
    "### Import Libraries"
   ]
  },
  {
   "cell_type": "code",
   "execution_count": null,
   "id": "1cb966a8",
   "metadata": {
    "execution": {
     "iopub.execute_input": "2023-11-11T17:53:14.422823Z",
     "iopub.status.busy": "2023-11-11T17:53:14.422375Z",
     "iopub.status.idle": "2023-11-11T17:53:14.844607Z",
     "shell.execute_reply": "2023-11-11T17:53:14.843348Z"
    },
    "id": "1cb966a8",
    "papermill": {
     "duration": 0.438294,
     "end_time": "2023-11-11T17:53:14.847500",
     "exception": false,
     "start_time": "2023-11-11T17:53:14.409206",
     "status": "completed"
    },
    "tags": []
   },
   "outputs": [],
   "source": [
    "import pandas as pd\n",
    "import numpy as np\n",
    "import seaborn as sns\n",
    "import matplotlib.pyplot as plt\n",
    "from sklearn.preprocessing import StandardScaler\n",
    "\n",
    "from sklearn.linear_model import LinearRegression\n",
    "from sklearn.linear_model import Ridge\n",
    "from sklearn.tree import DecisionTreeRegressor\n",
    "from sklearn.ensemble import RandomForestRegressor\n",
    "from xgboost import XGBRegressor\n",
    "\n",
    "from sklearn.metrics import mean_squared_error, mean_absolute_error, r2_score"
   ]
  },
  {
   "cell_type": "markdown",
   "id": "e538819e",
   "metadata": {},
   "source": [
    "### Read Dataset"
   ]
  },
  {
   "cell_type": "code",
   "execution_count": 7,
   "id": "c8303e4b",
   "metadata": {
    "colab": {
     "base_uri": "https://localhost:8080/",
     "height": 423
    },
    "execution": {
     "iopub.execute_input": "2023-11-11T17:53:16.928309Z",
     "iopub.status.busy": "2023-11-11T17:53:16.927911Z",
     "iopub.status.idle": "2023-11-11T17:53:17.038277Z",
     "shell.execute_reply": "2023-11-11T17:53:17.037314Z"
    },
    "id": "c8303e4b",
    "outputId": "f833766c-030c-4661-ab37-b4b1b97af88e",
    "papermill": {
     "duration": 0.125168,
     "end_time": "2023-11-11T17:53:17.041306",
     "exception": false,
     "start_time": "2023-11-11T17:53:16.916138",
     "status": "completed"
    },
    "tags": []
   },
   "outputs": [
    {
     "data": {
      "application/vnd.google.colaboratory.intrinsic+json": {
       "summary": "{\n  \"name\": \"df\",\n  \"rows\": 22120,\n  \"fields\": [\n    {\n      \"column\": \"Type\",\n      \"properties\": {\n        \"dtype\": \"category\",\n        \"num_unique_values\": 5,\n        \"samples\": [\n          \"Duplex\",\n          \"Unknown\",\n          \"Apartment\"\n        ],\n        \"semantic_type\": \"\",\n        \"description\": \"\"\n      }\n    },\n    {\n      \"column\": \"Price\",\n      \"properties\": {\n        \"dtype\": \"category\",\n        \"num_unique_values\": 3713,\n        \"samples\": [\n          \"9500003\",\n          \"1716000\",\n          \"3240000\"\n        ],\n        \"semantic_type\": \"\",\n        \"description\": \"\"\n      }\n    },\n    {\n      \"column\": \"Bedrooms\",\n      \"properties\": {\n        \"dtype\": \"category\",\n        \"num_unique_values\": 11,\n        \"samples\": [\n          \"6\",\n          \"3\",\n          \"Unknown\"\n        ],\n        \"semantic_type\": \"\",\n        \"description\": \"\"\n      }\n    },\n    {\n      \"column\": \"Bathrooms\",\n      \"properties\": {\n        \"dtype\": \"category\",\n        \"num_unique_values\": 11,\n        \"samples\": [\n          \"10\",\n          \"3\",\n          \"9\"\n        ],\n        \"semantic_type\": \"\",\n        \"description\": \"\"\n      }\n    },\n    {\n      \"column\": \"Area\",\n      \"properties\": {\n        \"dtype\": \"category\",\n        \"num_unique_values\": 417,\n        \"samples\": [\n          \"123\",\n          \"441\",\n          \"132.5\"\n        ],\n        \"semantic_type\": \"\",\n        \"description\": \"\"\n      }\n    },\n    {\n      \"column\": \"Furnished\",\n      \"properties\": {\n        \"dtype\": \"category\",\n        \"num_unique_values\": 3,\n        \"samples\": [\n          \"No\",\n          \"Unknown\",\n          \"Yes\"\n        ],\n        \"semantic_type\": \"\",\n        \"description\": \"\"\n      }\n    },\n    {\n      \"column\": \"Level\",\n      \"properties\": {\n        \"dtype\": \"category\",\n        \"num_unique_values\": 14,\n        \"samples\": [\n          \"6\",\n          \"11\",\n          \"3\"\n        ],\n        \"semantic_type\": \"\",\n        \"description\": \"\"\n      }\n    },\n    {\n      \"column\": \"Payment_Option\",\n      \"properties\": {\n        \"dtype\": \"category\",\n        \"num_unique_values\": 4,\n        \"samples\": [\n          \"Cash or Installment\",\n          \"Unknown\",\n          \"Cash\"\n        ],\n        \"semantic_type\": \"\",\n        \"description\": \"\"\n      }\n    },\n    {\n      \"column\": \"Delivery_Term\",\n      \"properties\": {\n        \"dtype\": \"category\",\n        \"num_unique_values\": 5,\n        \"samples\": [\n          \"Unknown \",\n          \"Not Finished\",\n          \"Core & Shell\"\n        ],\n        \"semantic_type\": \"\",\n        \"description\": \"\"\n      }\n    },\n    {\n      \"column\": \"City\",\n      \"properties\": {\n        \"dtype\": \"category\",\n        \"num_unique_values\": 397,\n        \"samples\": [\n          \"The Icon Residence\",\n          \"Zahret El Tagamo\",\n          \"Town Gate\"\n        ],\n        \"semantic_type\": \"\",\n        \"description\": \"\"\n      }\n    }\n  ]\n}",
       "type": "dataframe",
       "variable_name": "df"
      },
      "text/html": [
       "\n",
       "  <div id=\"df-65b7b147-07b7-495d-9df3-ebad7d50b2d0\" class=\"colab-df-container\">\n",
       "    <div>\n",
       "<style scoped>\n",
       "    .dataframe tbody tr th:only-of-type {\n",
       "        vertical-align: middle;\n",
       "    }\n",
       "\n",
       "    .dataframe tbody tr th {\n",
       "        vertical-align: top;\n",
       "    }\n",
       "\n",
       "    .dataframe thead th {\n",
       "        text-align: right;\n",
       "    }\n",
       "</style>\n",
       "<table border=\"1\" class=\"dataframe\">\n",
       "  <thead>\n",
       "    <tr style=\"text-align: right;\">\n",
       "      <th></th>\n",
       "      <th>Type</th>\n",
       "      <th>Price</th>\n",
       "      <th>Bedrooms</th>\n",
       "      <th>Bathrooms</th>\n",
       "      <th>Area</th>\n",
       "      <th>Furnished</th>\n",
       "      <th>Level</th>\n",
       "      <th>Payment_Option</th>\n",
       "      <th>Delivery_Term</th>\n",
       "      <th>City</th>\n",
       "    </tr>\n",
       "  </thead>\n",
       "  <tbody>\n",
       "    <tr>\n",
       "      <th>0</th>\n",
       "      <td>Penthouse</td>\n",
       "      <td>3000000</td>\n",
       "      <td>3</td>\n",
       "      <td>3</td>\n",
       "      <td>175</td>\n",
       "      <td>No</td>\n",
       "      <td>3</td>\n",
       "      <td>Cash</td>\n",
       "      <td>Semi Finished</td>\n",
       "      <td>Stone Residence</td>\n",
       "    </tr>\n",
       "    <tr>\n",
       "      <th>1</th>\n",
       "      <td>Duplex</td>\n",
       "      <td>8818000</td>\n",
       "      <td>4</td>\n",
       "      <td>4</td>\n",
       "      <td>290</td>\n",
       "      <td>Unknown</td>\n",
       "      <td>12</td>\n",
       "      <td>Cash or Installment</td>\n",
       "      <td>Semi Finished</td>\n",
       "      <td>Sheikh Zayed</td>\n",
       "    </tr>\n",
       "    <tr>\n",
       "      <th>2</th>\n",
       "      <td>Apartment</td>\n",
       "      <td>4470000</td>\n",
       "      <td>3</td>\n",
       "      <td>2</td>\n",
       "      <td>155</td>\n",
       "      <td>No</td>\n",
       "      <td>2</td>\n",
       "      <td>Installment</td>\n",
       "      <td>Semi Finished</td>\n",
       "      <td>Taj City</td>\n",
       "    </tr>\n",
       "    <tr>\n",
       "      <th>3</th>\n",
       "      <td>Apartment</td>\n",
       "      <td>492000</td>\n",
       "      <td>3</td>\n",
       "      <td>2</td>\n",
       "      <td>282</td>\n",
       "      <td>Unknown</td>\n",
       "      <td>4</td>\n",
       "      <td>Unknown</td>\n",
       "      <td>Unknown</td>\n",
       "      <td>New Cairo - El Tagamoa</td>\n",
       "    </tr>\n",
       "    <tr>\n",
       "      <th>4</th>\n",
       "      <td>Apartment</td>\n",
       "      <td>1855000</td>\n",
       "      <td>3</td>\n",
       "      <td>3</td>\n",
       "      <td>200</td>\n",
       "      <td>No</td>\n",
       "      <td>2</td>\n",
       "      <td>Cash</td>\n",
       "      <td>Core &amp; Shell</td>\n",
       "      <td>Garden Hills</td>\n",
       "    </tr>\n",
       "    <tr>\n",
       "      <th>...</th>\n",
       "      <td>...</td>\n",
       "      <td>...</td>\n",
       "      <td>...</td>\n",
       "      <td>...</td>\n",
       "      <td>...</td>\n",
       "      <td>...</td>\n",
       "      <td>...</td>\n",
       "      <td>...</td>\n",
       "      <td>...</td>\n",
       "      <td>...</td>\n",
       "    </tr>\n",
       "    <tr>\n",
       "      <th>22115</th>\n",
       "      <td>Apartment</td>\n",
       "      <td>6016000</td>\n",
       "      <td>3</td>\n",
       "      <td>2</td>\n",
       "      <td>164</td>\n",
       "      <td>Unknown</td>\n",
       "      <td>2</td>\n",
       "      <td>Cash or Installment</td>\n",
       "      <td>Core &amp; Shell</td>\n",
       "      <td>Galleria Moon Valley</td>\n",
       "    </tr>\n",
       "    <tr>\n",
       "      <th>22116</th>\n",
       "      <td>Apartment</td>\n",
       "      <td>4840000</td>\n",
       "      <td>3</td>\n",
       "      <td>3</td>\n",
       "      <td>176</td>\n",
       "      <td>No</td>\n",
       "      <td>9</td>\n",
       "      <td>Installment</td>\n",
       "      <td>Finished</td>\n",
       "      <td>Camp Caesar</td>\n",
       "    </tr>\n",
       "    <tr>\n",
       "      <th>22117</th>\n",
       "      <td>Apartment</td>\n",
       "      <td>5200000</td>\n",
       "      <td>3</td>\n",
       "      <td>3</td>\n",
       "      <td>175</td>\n",
       "      <td>Unknown</td>\n",
       "      <td>12</td>\n",
       "      <td>Installment</td>\n",
       "      <td>Semi Finished</td>\n",
       "      <td>6th of October</td>\n",
       "    </tr>\n",
       "    <tr>\n",
       "      <th>22118</th>\n",
       "      <td>Apartment</td>\n",
       "      <td>2717000</td>\n",
       "      <td>2</td>\n",
       "      <td>2</td>\n",
       "      <td>161</td>\n",
       "      <td>Unknown</td>\n",
       "      <td>2</td>\n",
       "      <td>Cash or Installment</td>\n",
       "      <td>Finished</td>\n",
       "      <td>New Capital City</td>\n",
       "    </tr>\n",
       "    <tr>\n",
       "      <th>22119</th>\n",
       "      <td>Apartment</td>\n",
       "      <td>700000</td>\n",
       "      <td>2</td>\n",
       "      <td>1</td>\n",
       "      <td>85</td>\n",
       "      <td>No</td>\n",
       "      <td>2</td>\n",
       "      <td>Installment</td>\n",
       "      <td>Finished</td>\n",
       "      <td>Madinaty</td>\n",
       "    </tr>\n",
       "  </tbody>\n",
       "</table>\n",
       "<p>22120 rows × 10 columns</p>\n",
       "</div>\n",
       "    <div class=\"colab-df-buttons\">\n",
       "\n",
       "  <div class=\"colab-df-container\">\n",
       "    <button class=\"colab-df-convert\" onclick=\"convertToInteractive('df-65b7b147-07b7-495d-9df3-ebad7d50b2d0')\"\n",
       "            title=\"Convert this dataframe to an interactive table.\"\n",
       "            style=\"display:none;\">\n",
       "\n",
       "  <svg xmlns=\"http://www.w3.org/2000/svg\" height=\"24px\" viewBox=\"0 -960 960 960\">\n",
       "    <path d=\"M120-120v-720h720v720H120Zm60-500h600v-160H180v160Zm220 220h160v-160H400v160Zm0 220h160v-160H400v160ZM180-400h160v-160H180v160Zm440 0h160v-160H620v160ZM180-180h160v-160H180v160Zm440 0h160v-160H620v160Z\"/>\n",
       "  </svg>\n",
       "    </button>\n",
       "\n",
       "  <style>\n",
       "    .colab-df-container {\n",
       "      display:flex;\n",
       "      gap: 12px;\n",
       "    }\n",
       "\n",
       "    .colab-df-convert {\n",
       "      background-color: #E8F0FE;\n",
       "      border: none;\n",
       "      border-radius: 50%;\n",
       "      cursor: pointer;\n",
       "      display: none;\n",
       "      fill: #1967D2;\n",
       "      height: 32px;\n",
       "      padding: 0 0 0 0;\n",
       "      width: 32px;\n",
       "    }\n",
       "\n",
       "    .colab-df-convert:hover {\n",
       "      background-color: #E2EBFA;\n",
       "      box-shadow: 0px 1px 2px rgba(60, 64, 67, 0.3), 0px 1px 3px 1px rgba(60, 64, 67, 0.15);\n",
       "      fill: #174EA6;\n",
       "    }\n",
       "\n",
       "    .colab-df-buttons div {\n",
       "      margin-bottom: 4px;\n",
       "    }\n",
       "\n",
       "    [theme=dark] .colab-df-convert {\n",
       "      background-color: #3B4455;\n",
       "      fill: #D2E3FC;\n",
       "    }\n",
       "\n",
       "    [theme=dark] .colab-df-convert:hover {\n",
       "      background-color: #434B5C;\n",
       "      box-shadow: 0px 1px 3px 1px rgba(0, 0, 0, 0.15);\n",
       "      filter: drop-shadow(0px 1px 2px rgba(0, 0, 0, 0.3));\n",
       "      fill: #FFFFFF;\n",
       "    }\n",
       "  </style>\n",
       "\n",
       "    <script>\n",
       "      const buttonEl =\n",
       "        document.querySelector('#df-65b7b147-07b7-495d-9df3-ebad7d50b2d0 button.colab-df-convert');\n",
       "      buttonEl.style.display =\n",
       "        google.colab.kernel.accessAllowed ? 'block' : 'none';\n",
       "\n",
       "      async function convertToInteractive(key) {\n",
       "        const element = document.querySelector('#df-65b7b147-07b7-495d-9df3-ebad7d50b2d0');\n",
       "        const dataTable =\n",
       "          await google.colab.kernel.invokeFunction('convertToInteractive',\n",
       "                                                    [key], {});\n",
       "        if (!dataTable) return;\n",
       "\n",
       "        const docLinkHtml = 'Like what you see? Visit the ' +\n",
       "          '<a target=\"_blank\" href=https://colab.research.google.com/notebooks/data_table.ipynb>data table notebook</a>'\n",
       "          + ' to learn more about interactive tables.';\n",
       "        element.innerHTML = '';\n",
       "        dataTable['output_type'] = 'display_data';\n",
       "        await google.colab.output.renderOutput(dataTable, element);\n",
       "        const docLink = document.createElement('div');\n",
       "        docLink.innerHTML = docLinkHtml;\n",
       "        element.appendChild(docLink);\n",
       "      }\n",
       "    </script>\n",
       "  </div>\n",
       "\n",
       "\n",
       "<div id=\"df-94dd5960-4584-4d93-8c37-eccd65efc0d5\">\n",
       "  <button class=\"colab-df-quickchart\" onclick=\"quickchart('df-94dd5960-4584-4d93-8c37-eccd65efc0d5')\"\n",
       "            title=\"Suggest charts\"\n",
       "            style=\"display:none;\">\n",
       "\n",
       "<svg xmlns=\"http://www.w3.org/2000/svg\" height=\"24px\"viewBox=\"0 0 24 24\"\n",
       "     width=\"24px\">\n",
       "    <g>\n",
       "        <path d=\"M19 3H5c-1.1 0-2 .9-2 2v14c0 1.1.9 2 2 2h14c1.1 0 2-.9 2-2V5c0-1.1-.9-2-2-2zM9 17H7v-7h2v7zm4 0h-2V7h2v10zm4 0h-2v-4h2v4z\"/>\n",
       "    </g>\n",
       "</svg>\n",
       "  </button>\n",
       "\n",
       "<style>\n",
       "  .colab-df-quickchart {\n",
       "      --bg-color: #E8F0FE;\n",
       "      --fill-color: #1967D2;\n",
       "      --hover-bg-color: #E2EBFA;\n",
       "      --hover-fill-color: #174EA6;\n",
       "      --disabled-fill-color: #AAA;\n",
       "      --disabled-bg-color: #DDD;\n",
       "  }\n",
       "\n",
       "  [theme=dark] .colab-df-quickchart {\n",
       "      --bg-color: #3B4455;\n",
       "      --fill-color: #D2E3FC;\n",
       "      --hover-bg-color: #434B5C;\n",
       "      --hover-fill-color: #FFFFFF;\n",
       "      --disabled-bg-color: #3B4455;\n",
       "      --disabled-fill-color: #666;\n",
       "  }\n",
       "\n",
       "  .colab-df-quickchart {\n",
       "    background-color: var(--bg-color);\n",
       "    border: none;\n",
       "    border-radius: 50%;\n",
       "    cursor: pointer;\n",
       "    display: none;\n",
       "    fill: var(--fill-color);\n",
       "    height: 32px;\n",
       "    padding: 0;\n",
       "    width: 32px;\n",
       "  }\n",
       "\n",
       "  .colab-df-quickchart:hover {\n",
       "    background-color: var(--hover-bg-color);\n",
       "    box-shadow: 0 1px 2px rgba(60, 64, 67, 0.3), 0 1px 3px 1px rgba(60, 64, 67, 0.15);\n",
       "    fill: var(--button-hover-fill-color);\n",
       "  }\n",
       "\n",
       "  .colab-df-quickchart-complete:disabled,\n",
       "  .colab-df-quickchart-complete:disabled:hover {\n",
       "    background-color: var(--disabled-bg-color);\n",
       "    fill: var(--disabled-fill-color);\n",
       "    box-shadow: none;\n",
       "  }\n",
       "\n",
       "  .colab-df-spinner {\n",
       "    border: 2px solid var(--fill-color);\n",
       "    border-color: transparent;\n",
       "    border-bottom-color: var(--fill-color);\n",
       "    animation:\n",
       "      spin 1s steps(1) infinite;\n",
       "  }\n",
       "\n",
       "  @keyframes spin {\n",
       "    0% {\n",
       "      border-color: transparent;\n",
       "      border-bottom-color: var(--fill-color);\n",
       "      border-left-color: var(--fill-color);\n",
       "    }\n",
       "    20% {\n",
       "      border-color: transparent;\n",
       "      border-left-color: var(--fill-color);\n",
       "      border-top-color: var(--fill-color);\n",
       "    }\n",
       "    30% {\n",
       "      border-color: transparent;\n",
       "      border-left-color: var(--fill-color);\n",
       "      border-top-color: var(--fill-color);\n",
       "      border-right-color: var(--fill-color);\n",
       "    }\n",
       "    40% {\n",
       "      border-color: transparent;\n",
       "      border-right-color: var(--fill-color);\n",
       "      border-top-color: var(--fill-color);\n",
       "    }\n",
       "    60% {\n",
       "      border-color: transparent;\n",
       "      border-right-color: var(--fill-color);\n",
       "    }\n",
       "    80% {\n",
       "      border-color: transparent;\n",
       "      border-right-color: var(--fill-color);\n",
       "      border-bottom-color: var(--fill-color);\n",
       "    }\n",
       "    90% {\n",
       "      border-color: transparent;\n",
       "      border-bottom-color: var(--fill-color);\n",
       "    }\n",
       "  }\n",
       "</style>\n",
       "\n",
       "  <script>\n",
       "    async function quickchart(key) {\n",
       "      const quickchartButtonEl =\n",
       "        document.querySelector('#' + key + ' button');\n",
       "      quickchartButtonEl.disabled = true;  // To prevent multiple clicks.\n",
       "      quickchartButtonEl.classList.add('colab-df-spinner');\n",
       "      try {\n",
       "        const charts = await google.colab.kernel.invokeFunction(\n",
       "            'suggestCharts', [key], {});\n",
       "      } catch (error) {\n",
       "        console.error('Error during call to suggestCharts:', error);\n",
       "      }\n",
       "      quickchartButtonEl.classList.remove('colab-df-spinner');\n",
       "      quickchartButtonEl.classList.add('colab-df-quickchart-complete');\n",
       "    }\n",
       "    (() => {\n",
       "      let quickchartButtonEl =\n",
       "        document.querySelector('#df-94dd5960-4584-4d93-8c37-eccd65efc0d5 button');\n",
       "      quickchartButtonEl.style.display =\n",
       "        google.colab.kernel.accessAllowed ? 'block' : 'none';\n",
       "    })();\n",
       "  </script>\n",
       "</div>\n",
       "\n",
       "  <div id=\"id_eebe9f4f-171b-4f41-b82b-ce87b9139fcd\">\n",
       "    <style>\n",
       "      .colab-df-generate {\n",
       "        background-color: #E8F0FE;\n",
       "        border: none;\n",
       "        border-radius: 50%;\n",
       "        cursor: pointer;\n",
       "        display: none;\n",
       "        fill: #1967D2;\n",
       "        height: 32px;\n",
       "        padding: 0 0 0 0;\n",
       "        width: 32px;\n",
       "      }\n",
       "\n",
       "      .colab-df-generate:hover {\n",
       "        background-color: #E2EBFA;\n",
       "        box-shadow: 0px 1px 2px rgba(60, 64, 67, 0.3), 0px 1px 3px 1px rgba(60, 64, 67, 0.15);\n",
       "        fill: #174EA6;\n",
       "      }\n",
       "\n",
       "      [theme=dark] .colab-df-generate {\n",
       "        background-color: #3B4455;\n",
       "        fill: #D2E3FC;\n",
       "      }\n",
       "\n",
       "      [theme=dark] .colab-df-generate:hover {\n",
       "        background-color: #434B5C;\n",
       "        box-shadow: 0px 1px 3px 1px rgba(0, 0, 0, 0.15);\n",
       "        filter: drop-shadow(0px 1px 2px rgba(0, 0, 0, 0.3));\n",
       "        fill: #FFFFFF;\n",
       "      }\n",
       "    </style>\n",
       "    <button class=\"colab-df-generate\" onclick=\"generateWithVariable('df')\"\n",
       "            title=\"Generate code using this dataframe.\"\n",
       "            style=\"display:none;\">\n",
       "\n",
       "  <svg xmlns=\"http://www.w3.org/2000/svg\" height=\"24px\"viewBox=\"0 0 24 24\"\n",
       "       width=\"24px\">\n",
       "    <path d=\"M7,19H8.4L18.45,9,17,7.55,7,17.6ZM5,21V16.75L18.45,3.32a2,2,0,0,1,2.83,0l1.4,1.43a1.91,1.91,0,0,1,.58,1.4,1.91,1.91,0,0,1-.58,1.4L9.25,21ZM18.45,9,17,7.55Zm-12,3A5.31,5.31,0,0,0,4.9,8.1,5.31,5.31,0,0,0,1,6.5,5.31,5.31,0,0,0,4.9,4.9,5.31,5.31,0,0,0,6.5,1,5.31,5.31,0,0,0,8.1,4.9,5.31,5.31,0,0,0,12,6.5,5.46,5.46,0,0,0,6.5,12Z\"/>\n",
       "  </svg>\n",
       "    </button>\n",
       "    <script>\n",
       "      (() => {\n",
       "      const buttonEl =\n",
       "        document.querySelector('#id_eebe9f4f-171b-4f41-b82b-ce87b9139fcd button.colab-df-generate');\n",
       "      buttonEl.style.display =\n",
       "        google.colab.kernel.accessAllowed ? 'block' : 'none';\n",
       "\n",
       "      buttonEl.onclick = () => {\n",
       "        google.colab.notebook.generateWithVariable('df');\n",
       "      }\n",
       "      })();\n",
       "    </script>\n",
       "  </div>\n",
       "\n",
       "    </div>\n",
       "  </div>\n"
      ],
      "text/plain": [
       "            Type    Price Bedrooms Bathrooms Area Furnished Level  \\\n",
       "0      Penthouse  3000000        3         3  175        No     3   \n",
       "1         Duplex  8818000        4         4  290   Unknown    12   \n",
       "2      Apartment  4470000        3         2  155        No     2   \n",
       "3      Apartment   492000        3         2  282   Unknown     4   \n",
       "4      Apartment  1855000        3         3  200        No     2   \n",
       "...          ...      ...      ...       ...  ...       ...   ...   \n",
       "22115  Apartment  6016000        3         2  164   Unknown     2   \n",
       "22116  Apartment  4840000        3         3  176        No     9   \n",
       "22117  Apartment  5200000        3         3  175   Unknown    12   \n",
       "22118  Apartment  2717000        2         2  161   Unknown     2   \n",
       "22119  Apartment   700000        2         1   85        No     2   \n",
       "\n",
       "            Payment_Option  Delivery_Term                    City  \n",
       "0                     Cash  Semi Finished         Stone Residence  \n",
       "1      Cash or Installment  Semi Finished            Sheikh Zayed  \n",
       "2              Installment  Semi Finished                Taj City  \n",
       "3                  Unknown       Unknown   New Cairo - El Tagamoa  \n",
       "4                     Cash   Core & Shell            Garden Hills  \n",
       "...                    ...            ...                     ...  \n",
       "22115  Cash or Installment   Core & Shell    Galleria Moon Valley  \n",
       "22116          Installment       Finished             Camp Caesar  \n",
       "22117          Installment  Semi Finished          6th of October  \n",
       "22118  Cash or Installment       Finished        New Capital City  \n",
       "22119          Installment       Finished                Madinaty  \n",
       "\n",
       "[22120 rows x 10 columns]"
      ]
     },
     "execution_count": 7,
     "metadata": {},
     "output_type": "execute_result"
    }
   ],
   "source": [
    "df = pd.read_csv('/content/Real_Estates_Dataset_Egypt_2022.csv')\n",
    "df"
   ]
  },
  {
   "cell_type": "code",
   "execution_count": null,
   "id": "-YfTOkex4NVW",
   "metadata": {
    "id": "-YfTOkex4NVW"
   },
   "outputs": [],
   "source": [
    "from google.colab import drive\n",
    "drive.mount('/content/drive')"
   ]
  },
  {
   "cell_type": "code",
   "execution_count": 8,
   "id": "d33638b9",
   "metadata": {
    "colab": {
     "base_uri": "https://localhost:8080/"
    },
    "execution": {
     "iopub.execute_input": "2023-11-11T17:53:17.064797Z",
     "iopub.status.busy": "2023-11-11T17:53:17.063993Z",
     "iopub.status.idle": "2023-11-11T17:53:17.121479Z",
     "shell.execute_reply": "2023-11-11T17:53:17.120345Z"
    },
    "id": "d33638b9",
    "outputId": "aa32f133-39a3-4462-83c1-fbb76e064a8a",
    "papermill": {
     "duration": 0.072382,
     "end_time": "2023-11-11T17:53:17.124188",
     "exception": false,
     "start_time": "2023-11-11T17:53:17.051806",
     "status": "completed"
    },
    "tags": []
   },
   "outputs": [
    {
     "name": "stdout",
     "output_type": "stream",
     "text": [
      "<class 'pandas.core.frame.DataFrame'>\n",
      "RangeIndex: 22120 entries, 0 to 22119\n",
      "Data columns (total 10 columns):\n",
      " #   Column          Non-Null Count  Dtype \n",
      "---  ------          --------------  ----- \n",
      " 0   Type            22120 non-null  object\n",
      " 1   Price           22104 non-null  object\n",
      " 2   Bedrooms        22118 non-null  object\n",
      " 3   Bathrooms       22119 non-null  object\n",
      " 4   Area            22087 non-null  object\n",
      " 5   Furnished       22120 non-null  object\n",
      " 6   Level           22120 non-null  object\n",
      " 7   Payment_Option  22120 non-null  object\n",
      " 8   Delivery_Term   22120 non-null  object\n",
      " 9   City            22118 non-null  object\n",
      "dtypes: object(10)\n",
      "memory usage: 1.7+ MB\n"
     ]
    }
   ],
   "source": [
    "df.info()"
   ]
  },
  {
   "cell_type": "markdown",
   "id": "fa2ee38c",
   "metadata": {},
   "source": [
    "### Data Cleaning"
   ]
  },
  {
   "cell_type": "code",
   "execution_count": null,
   "id": "415c0172",
   "metadata": {
    "execution": {
     "iopub.execute_input": "2023-11-11T17:53:17.148241Z",
     "iopub.status.busy": "2023-11-11T17:53:17.147450Z",
     "iopub.status.idle": "2023-11-11T17:53:17.205101Z",
     "shell.execute_reply": "2023-11-11T17:53:17.203686Z"
    },
    "id": "415c0172",
    "papermill": {
     "duration": 0.07267,
     "end_time": "2023-11-11T17:53:17.208001",
     "exception": false,
     "start_time": "2023-11-11T17:53:17.135331",
     "status": "completed"
    },
    "tags": []
   },
   "outputs": [],
   "source": [
    "# Replacing all occurrences of 'Unknown' in all columns with NaN (Not a Number)\n",
    "\n",
    "df['Area'] = df['Area'].replace('Unknown', np.nan)\n",
    "\n",
    "df['Bedrooms'] = df['Bedrooms'].replace('Unknown', np.nan)\n",
    "\n",
    "df['Bathrooms'] = df['Bathrooms'].replace('Unknown', np.nan)\n",
    "\n",
    "df['Price'] = df['Price'].replace('Unknown', np.nan)\n",
    "\n",
    "# Dropping all rows in the DataFrame where at least one value is NaN , to ensure a clean dataset\n",
    "df.dropna(inplace=True)\n"
   ]
  },
  {
   "cell_type": "code",
   "execution_count": null,
   "id": "746f53b6",
   "metadata": {
    "execution": {
     "iopub.execute_input": "2023-11-11T17:53:17.231783Z",
     "iopub.status.busy": "2023-11-11T17:53:17.231343Z",
     "iopub.status.idle": "2023-11-11T17:53:17.261547Z",
     "shell.execute_reply": "2023-11-11T17:53:17.260238Z"
    },
    "id": "746f53b6",
    "papermill": {
     "duration": 0.045656,
     "end_time": "2023-11-11T17:53:17.264806",
     "exception": false,
     "start_time": "2023-11-11T17:53:17.219150",
     "status": "completed"
    },
    "tags": []
   },
   "outputs": [],
   "source": [
    "# Replacing occurrences of '10+' in the 'Bedrooms' and 'Bathrooms' columns with 11 , This ensures numeric consistency by converting '10+' to a manageable value\n",
    "\n",
    "df['Bedrooms'] = df['Bedrooms'].replace('10+', 11)\n",
    "\n",
    "df['Bathrooms'] = df['Bathrooms'].replace('10+', 11)\n",
    "\n",
    "# Replacing occurrences of 'Unknown' in the 'Furnished' column with 'No'\n",
    "# Assumes that 'Unknown' furnishing status means the property is not furnished\n",
    "df['Furnished'] = df['Furnished'].replace('Unknown', 'No')\n",
    "\n",
    "# Replacing occurrences of 'Unknown' in the 'Payment_Option' column with 'Cash'\n",
    "df['Payment_Option'] = df['Payment_Option'].replace('Unknown', 'Cash')\n",
    "\n",
    "# Replacing occurrences of 'Unknown ' (with a trailing space) in the 'Delivery_Term' column with 'Not Finished'\n",
    "df['Delivery_Term'] = df['Delivery_Term'].replace('Unknown ', 'Not Finished')\n"
   ]
  },
  {
   "cell_type": "code",
   "execution_count": null,
   "id": "348a1354",
   "metadata": {
    "execution": {
     "iopub.execute_input": "2023-11-11T17:53:17.288280Z",
     "iopub.status.busy": "2023-11-11T17:53:17.287835Z",
     "iopub.status.idle": "2023-11-11T17:53:17.311721Z",
     "shell.execute_reply": "2023-11-11T17:53:17.310542Z"
    },
    "id": "348a1354",
    "papermill": {
     "duration": 0.038845,
     "end_time": "2023-11-11T17:53:17.314484",
     "exception": false,
     "start_time": "2023-11-11T17:53:17.275639",
     "status": "completed"
    },
    "tags": []
   },
   "outputs": [],
   "source": [
    "# Converting some columns to integers\n",
    "\n",
    "df['Bedrooms'] = df['Bedrooms'].astype(int)\n",
    "\n",
    "df['Bathrooms'] = df['Bathrooms'].astype(int)\n",
    "\n",
    "df['Area'] = df['Area'].astype(float).astype(int)\n",
    "\n",
    "df['Price'] = df['Price'].astype(int)\n"
   ]
  },
  {
   "cell_type": "code",
   "execution_count": null,
   "id": "3bd982c5",
   "metadata": {
    "colab": {
     "base_uri": "https://localhost:8080/"
    },
    "execution": {
     "iopub.execute_input": "2023-11-11T17:53:17.337750Z",
     "iopub.status.busy": "2023-11-11T17:53:17.337350Z",
     "iopub.status.idle": "2023-11-11T17:53:17.353010Z",
     "shell.execute_reply": "2023-11-11T17:53:17.351323Z"
    },
    "id": "3bd982c5",
    "outputId": "dc3beee9-328b-4d94-816f-c514c0e878b2",
    "papermill": {
     "duration": 0.030547,
     "end_time": "2023-11-11T17:53:17.355555",
     "exception": false,
     "start_time": "2023-11-11T17:53:17.325008",
     "status": "completed"
    },
    "tags": []
   },
   "outputs": [
    {
     "name": "stdout",
     "output_type": "stream",
     "text": [
      "['3' '12' '2' '4' '1' '9' '13' '7' '5' '6' '10' '11' '8']\n",
      "['Penthouse' 'Duplex' 'Apartment' 'Studio']\n",
      "['Cash' 'Cash or Installment' 'Installment']\n"
     ]
    }
   ],
   "source": [
    "# Printing the unique values in columns\n",
    "print(df['Level'].unique())\n",
    "\n",
    "print(df['Type'].unique())\n",
    "\n",
    "print(df['Payment_Option'].unique())\n"
   ]
  },
  {
   "cell_type": "code",
   "execution_count": null,
   "id": "0a96cfc1",
   "metadata": {
    "execution": {
     "iopub.execute_input": "2023-11-11T17:53:17.379378Z",
     "iopub.status.busy": "2023-11-11T17:53:17.378986Z",
     "iopub.status.idle": "2023-11-11T17:53:17.428627Z",
     "shell.execute_reply": "2023-11-11T17:53:17.427400Z"
    },
    "id": "0a96cfc1",
    "papermill": {
     "duration": 0.065426,
     "end_time": "2023-11-11T17:53:17.432044",
     "exception": false,
     "start_time": "2023-11-11T17:53:17.366618",
     "status": "completed"
    },
    "tags": []
   },
   "outputs": [],
   "source": [
    "# Dropping rows where 'Level' is 'Unknown' and 'Type' is 'Duplex'\n",
    "df = df.drop(df[(df['Level'] == 'Unknown') & (df['Type'] == 'Duplex')].index)\n",
    "\n",
    "# Dropping rows where 'Level' is 'Unknown' and 'Type' is 'Apartment'\n",
    "df = df.drop(df[(df['Level'] == 'Unknown') & (df['Type'] == 'Apartment')].index)\n",
    "\n",
    "# Dropping rows where 'Level' is 'Unknown' and 'Type' is 'Studio'\n",
    "df = df.drop(df[(df['Level'] == 'Unknown') & (df['Type'] == 'Studio')].index)\n"
   ]
  },
  {
   "cell_type": "code",
   "execution_count": null,
   "id": "d45a54e1",
   "metadata": {
    "execution": {
     "iopub.execute_input": "2023-11-11T17:53:17.456019Z",
     "iopub.status.busy": "2023-11-11T17:53:17.455588Z",
     "iopub.status.idle": "2023-11-11T17:53:17.481519Z",
     "shell.execute_reply": "2023-11-11T17:53:17.480337Z"
    },
    "id": "d45a54e1",
    "papermill": {
     "duration": 0.041073,
     "end_time": "2023-11-11T17:53:17.484373",
     "exception": false,
     "start_time": "2023-11-11T17:53:17.443300",
     "status": "completed"
    },
    "tags": []
   },
   "outputs": [],
   "source": [
    "# Updating the 'Level' column: replacing '10+' with 11\n",
    "df.loc[(df['Level'] == '10+'), 'Level'] = 11\n",
    "\n",
    "# Updating the 'Level' column: replacing 'Highest' with 12\n",
    "df.loc[(df['Level'] == 'Highest'), 'Level'] = 12\n",
    "\n",
    "# Updating the 'Level' column: replacing 'Ground' with 0\n",
    "df.loc[(df['Level'] == 'Ground'), 'Level'] = 0\n",
    "\n",
    "# Updating the 'Level' column for properties of type 'Penthouse': assigning level 12\n",
    "df.loc[(df['Type'] == 'Penthouse'), 'Level'] = 12\n"
   ]
  },
  {
   "cell_type": "code",
   "execution_count": null,
   "id": "ec9d27b3",
   "metadata": {
    "execution": {
     "iopub.execute_input": "2023-11-11T17:53:17.507404Z",
     "iopub.status.busy": "2023-11-11T17:53:17.506981Z",
     "iopub.status.idle": "2023-11-11T17:53:17.515551Z",
     "shell.execute_reply": "2023-11-11T17:53:17.514443Z"
    },
    "id": "ec9d27b3",
    "papermill": {
     "duration": 0.022905,
     "end_time": "2023-11-11T17:53:17.517948",
     "exception": false,
     "start_time": "2023-11-11T17:53:17.495043",
     "status": "completed"
    },
    "tags": []
   },
   "outputs": [],
   "source": [
    "# Converting the 'Level' column to integers\n",
    "df['Level'] = df['Level'].astype(int)"
   ]
  },
  {
   "cell_type": "code",
   "execution_count": null,
   "id": "625e3cbf",
   "metadata": {
    "colab": {
     "base_uri": "https://localhost:8080/"
    },
    "execution": {
     "iopub.execute_input": "2023-11-11T17:53:17.541261Z",
     "iopub.status.busy": "2023-11-11T17:53:17.540831Z",
     "iopub.status.idle": "2023-11-11T17:53:17.549256Z",
     "shell.execute_reply": "2023-11-11T17:53:17.548125Z"
    },
    "id": "625e3cbf",
    "outputId": "4d2c3d4f-70df-4dd7-b705-58436a93b21f",
    "papermill": {
     "duration": 0.02301,
     "end_time": "2023-11-11T17:53:17.551632",
     "exception": false,
     "start_time": "2023-11-11T17:53:17.528622",
     "status": "completed"
    },
    "tags": []
   },
   "outputs": [
    {
     "name": "stdout",
     "output_type": "stream",
     "text": [
      "[12  2  4  1  3  9 13  7  5  6 10 11  8]\n"
     ]
    }
   ],
   "source": [
    "# Printing the unique values in the 'Level' column\n",
    "print(df['Level'].unique())"
   ]
  },
  {
   "cell_type": "code",
   "execution_count": null,
   "id": "4fd175e8",
   "metadata": {
    "execution": {
     "iopub.execute_input": "2023-11-11T17:53:17.575840Z",
     "iopub.status.busy": "2023-11-11T17:53:17.575401Z",
     "iopub.status.idle": "2023-11-11T17:53:17.586412Z",
     "shell.execute_reply": "2023-11-11T17:53:17.585521Z"
    },
    "id": "4fd175e8",
    "papermill": {
     "duration": 0.025916,
     "end_time": "2023-11-11T17:53:17.588895",
     "exception": false,
     "start_time": "2023-11-11T17:53:17.562979",
     "status": "completed"
    },
    "tags": []
   },
   "outputs": [],
   "source": [
    "# Resetting the index of the DataFrame\n",
    "df.reset_index(inplace=True)\n",
    "\n",
    "# Dropping the 'index' column that was added during the reset_index operation\n",
    "df.drop(['index'], axis=1, inplace=True)\n"
   ]
  },
  {
   "cell_type": "code",
   "execution_count": null,
   "id": "c56bb0fd",
   "metadata": {
    "colab": {
     "base_uri": "https://localhost:8080/",
     "height": 241
    },
    "execution": {
     "iopub.execute_input": "2023-11-11T17:53:17.613027Z",
     "iopub.status.busy": "2023-11-11T17:53:17.612543Z",
     "iopub.status.idle": "2023-11-11T17:53:17.626250Z",
     "shell.execute_reply": "2023-11-11T17:53:17.625388Z"
    },
    "id": "c56bb0fd",
    "outputId": "d718ea67-9613-4472-b6da-5d6c0b83d5c6",
    "papermill": {
     "duration": 0.02846,
     "end_time": "2023-11-11T17:53:17.628427",
     "exception": false,
     "start_time": "2023-11-11T17:53:17.599967",
     "status": "completed"
    },
    "tags": []
   },
   "outputs": [
    {
     "data": {
      "text/html": [
       "<div>\n",
       "<style scoped>\n",
       "    .dataframe tbody tr th:only-of-type {\n",
       "        vertical-align: middle;\n",
       "    }\n",
       "\n",
       "    .dataframe tbody tr th {\n",
       "        vertical-align: top;\n",
       "    }\n",
       "\n",
       "    .dataframe thead th {\n",
       "        text-align: right;\n",
       "    }\n",
       "</style>\n",
       "<table border=\"1\" class=\"dataframe\">\n",
       "  <thead>\n",
       "    <tr style=\"text-align: right;\">\n",
       "      <th></th>\n",
       "      <th>count</th>\n",
       "    </tr>\n",
       "    <tr>\n",
       "      <th>Type</th>\n",
       "      <th></th>\n",
       "    </tr>\n",
       "  </thead>\n",
       "  <tbody>\n",
       "    <tr>\n",
       "      <th>Apartment</th>\n",
       "      <td>19225</td>\n",
       "    </tr>\n",
       "    <tr>\n",
       "      <th>Duplex</th>\n",
       "      <td>1691</td>\n",
       "    </tr>\n",
       "    <tr>\n",
       "      <th>Penthouse</th>\n",
       "      <td>762</td>\n",
       "    </tr>\n",
       "    <tr>\n",
       "      <th>Studio</th>\n",
       "      <td>386</td>\n",
       "    </tr>\n",
       "  </tbody>\n",
       "</table>\n",
       "</div><br><label><b>dtype:</b> int64</label>"
      ],
      "text/plain": [
       "Type\n",
       "Apartment    19225\n",
       "Duplex        1691\n",
       "Penthouse      762\n",
       "Studio         386\n",
       "Name: count, dtype: int64"
      ]
     },
     "execution_count": 18,
     "metadata": {},
     "output_type": "execute_result"
    }
   ],
   "source": [
    "# Counting the occurrences of each unique value in the 'Type' column\n",
    "df['Type'].value_counts()"
   ]
  },
  {
   "cell_type": "code",
   "execution_count": null,
   "id": "275ee499",
   "metadata": {
    "execution": {
     "iopub.execute_input": "2023-11-11T17:53:17.652171Z",
     "iopub.status.busy": "2023-11-11T17:53:17.651712Z",
     "iopub.status.idle": "2023-11-11T17:53:17.660409Z",
     "shell.execute_reply": "2023-11-11T17:53:17.659523Z"
    },
    "id": "275ee499",
    "papermill": {
     "duration": 0.023658,
     "end_time": "2023-11-11T17:53:17.662911",
     "exception": false,
     "start_time": "2023-11-11T17:53:17.639253",
     "status": "completed"
    },
    "tags": []
   },
   "outputs": [],
   "source": [
    "# Counting the occurrences of each unique value in the 'City' column, including NaN values\n",
    "city_name = df['City'].value_counts(dropna=False).keys().tolist()\n",
    "\n",
    "# Getting the counts (values) of each unique city, including NaN values\n",
    "val = df['City'].value_counts(dropna=False).tolist()\n",
    "\n",
    "# Creating a list of tuples where each tuple contains a city name and its corresponding count\n",
    "value_dict = list(zip(city_name, val))"
   ]
  },
  {
   "cell_type": "code",
   "execution_count": null,
   "id": "04daf4ff",
   "metadata": {
    "execution": {
     "iopub.execute_input": "2023-11-11T17:53:17.687686Z",
     "iopub.status.busy": "2023-11-11T17:53:17.686949Z",
     "iopub.status.idle": "2023-11-11T17:53:17.767844Z",
     "shell.execute_reply": "2023-11-11T17:53:17.766421Z"
    },
    "id": "04daf4ff",
    "papermill": {
     "duration": 0.096758,
     "end_time": "2023-11-11T17:53:17.770814",
     "exception": false,
     "start_time": "2023-11-11T17:53:17.674056",
     "status": "completed"
    },
    "tags": []
   },
   "outputs": [],
   "source": [
    "# Initializing an empty list to store cities with low frequency\n",
    "Low_frequency_city = []\n",
    "\n",
    "# Setting a threshold value for low frequency cities\n",
    "y = 'Less'\n",
    "\n",
    "# Loop through each (city_name, val) pair in the `value_dict` list\n",
    "for city_name, val in value_dict:\n",
    "    # If the count of the city (val) is less than or equal to 5\n",
    "    if val <= 5:\n",
    "        # Append the city name to the `Low_frequency_city` list\n",
    "        Low_frequency_city.append(city_name)\n",
    "    else:\n",
    "        pass\n",
    "\n",
    "# Define function `lcdlt()` to replace city names with 'Less' if they are in `Low_frequency_city`\n",
    "def lcdlt(x):\n",
    "    if x in Low_frequency_city:  # If the city is in the list of low-frequency cities\n",
    "        return y  # Replace it with 'Less'\n",
    "    else:\n",
    "        return x  # Otherwise, return the original city name\n",
    "\n",
    "# Apply the `lcdlt()` function to the 'City' column\n",
    "df['City'] = df['City'].apply(lcdlt)\n",
    "\n",
    "# Drop all rows where the 'City' column has the value 'Less'\n",
    "df = df.drop(df[df['City'] == 'Less'].index)\n"
   ]
  },
  {
   "cell_type": "code",
   "execution_count": null,
   "id": "acfbfc16",
   "metadata": {
    "execution": {
     "iopub.execute_input": "2023-11-11T17:53:17.794549Z",
     "iopub.status.busy": "2023-11-11T17:53:17.794136Z",
     "iopub.status.idle": "2023-11-11T17:53:22.838308Z",
     "shell.execute_reply": "2023-11-11T17:53:22.836688Z"
    },
    "id": "acfbfc16",
    "papermill": {
     "duration": 5.059389,
     "end_time": "2023-11-11T17:53:22.841030",
     "exception": false,
     "start_time": "2023-11-11T17:53:17.781641",
     "status": "completed"
    },
    "tags": []
   },
   "outputs": [],
   "source": [
    "# Getting the unique city names from the 'City' column\n",
    "lcc = df['City'].unique()\n",
    "\n",
    "# Iterating over each city in the list of unique cities\n",
    "for x in lcc:\n",
    "    # Calculating the standard deviation of the 'Price' column for each city 'x'\n",
    "    std = df[(df['City'] == x)]['Price'].std()\n",
    "\n",
    "    # Calculating the mean of the 'Price' column for each city 'x'\n",
    "    M = df[(df['City'] == x)]['Price'].mean()\n",
    "\n",
    "    # Calculating the upper bound: mean + standard deviation\n",
    "    upper_bound = M + std\n",
    "\n",
    "    # Calculating the lower bound: mean - standard deviation\n",
    "    lower_bound = M - std\n",
    "\n",
    "    # Dropping rows where 'Price' is greater than or equal to the upper bound for each city 'x'\n",
    "    df = df.drop(df[(df['City'] == x) & (df['Price'] >= upper_bound)].index)\n",
    "\n",
    "    # Dropping rows where 'Price' is less than or equal to the lower bound for each city 'x'\n",
    "    df = df.drop(df[(df['City'] == x) & (df['Price'] <= lower_bound)].index)\n"
   ]
  },
  {
   "cell_type": "code",
   "execution_count": null,
   "id": "ab095b48",
   "metadata": {
    "execution": {
     "iopub.execute_input": "2023-11-11T17:53:22.865511Z",
     "iopub.status.busy": "2023-11-11T17:53:22.864718Z",
     "iopub.status.idle": "2023-11-11T17:53:22.882717Z",
     "shell.execute_reply": "2023-11-11T17:53:22.881325Z"
    },
    "id": "ab095b48",
    "papermill": {
     "duration": 0.033503,
     "end_time": "2023-11-11T17:53:22.885519",
     "exception": false,
     "start_time": "2023-11-11T17:53:22.852016",
     "status": "completed"
    },
    "tags": []
   },
   "outputs": [],
   "source": [
    "# Dropping rows where the 'Area' is less than or equal to 100 and 'Bedrooms' is greater than or equal to 4\n",
    "df = df.drop(df[(df['Area'] <= 100) & (df['Bedrooms'] >= 4)].index)\n",
    "\n",
    "# Dropping rows where the 'Area' is less than or equal to 30 and 'Type' is not 'Studio'\n",
    "df = df.drop(df[(df['Area'] <= 30) & (df['Type'] != 'Studio')].index)\n"
   ]
  },
  {
   "cell_type": "code",
   "execution_count": null,
   "id": "4bff9031",
   "metadata": {
    "execution": {
     "iopub.execute_input": "2023-11-11T17:53:22.909214Z",
     "iopub.status.busy": "2023-11-11T17:53:22.908516Z",
     "iopub.status.idle": "2023-11-11T17:53:22.917769Z",
     "shell.execute_reply": "2023-11-11T17:53:22.916702Z"
    },
    "id": "4bff9031",
    "papermill": {
     "duration": 0.023479,
     "end_time": "2023-11-11T17:53:22.919985",
     "exception": false,
     "start_time": "2023-11-11T17:53:22.896506",
     "status": "completed"
    },
    "tags": []
   },
   "outputs": [],
   "source": [
    "# Resetting the index of the dataframe to ensure it has a sequential integer index\n",
    "df.reset_index(inplace=True)\n",
    "\n",
    "# Dropping the 'index' column that was added after resetting the index\n",
    "df.drop(['index'], axis=1, inplace=True)"
   ]
  },
  {
   "cell_type": "code",
   "execution_count": null,
   "id": "30185ead",
   "metadata": {
    "colab": {
     "base_uri": "https://localhost:8080/"
    },
    "execution": {
     "iopub.execute_input": "2023-11-11T17:53:22.944520Z",
     "iopub.status.busy": "2023-11-11T17:53:22.943694Z",
     "iopub.status.idle": "2023-11-11T17:53:22.992102Z",
     "shell.execute_reply": "2023-11-11T17:53:22.990684Z"
    },
    "id": "30185ead",
    "outputId": "3c0a8010-03da-43ee-f17b-1411cb9af5f0",
    "papermill": {
     "duration": 0.064,
     "end_time": "2023-11-11T17:53:22.995205",
     "exception": false,
     "start_time": "2023-11-11T17:53:22.931205",
     "status": "completed"
    },
    "scrolled": true,
    "tags": []
   },
   "outputs": [
    {
     "name": "stdout",
     "output_type": "stream",
     "text": [
      "Type : 4\n",
      "Type\n",
      "Apartment    14773\n",
      "Duplex        1003\n",
      "Penthouse      487\n",
      "Studio         274\n",
      "Name: count, dtype: int64\n",
      "\n",
      "********************\n",
      "\n",
      "Price : 2669\n",
      "Price\n",
      "3500000    345\n",
      "2500000    317\n",
      "3000000    272\n",
      "4000000    246\n",
      "2000000    235\n",
      "1500000    223\n",
      "4500000    216\n",
      "Name: count, dtype: int64\n",
      "\n",
      "********************\n",
      "\n",
      "Bedrooms : 9\n",
      "Bedrooms\n",
      "3    10468\n",
      "2     4045\n",
      "4     1329\n",
      "1      493\n",
      "5      171\n",
      "6       20\n",
      "7        7\n",
      "Name: count, dtype: int64\n",
      "\n",
      "********************\n",
      "\n",
      "Bathrooms : 8\n",
      "Bathrooms\n",
      "2    6995\n",
      "3    5551\n",
      "1    3433\n",
      "4     490\n",
      "5      56\n",
      "6      10\n",
      "8       1\n",
      "Name: count, dtype: int64\n",
      "\n",
      "********************\n",
      "\n",
      "Area : 338\n",
      "Area\n",
      "120    632\n",
      "140    552\n",
      "130    523\n",
      "150    523\n",
      "200    499\n",
      "160    460\n",
      "165    436\n",
      "Name: count, dtype: int64\n",
      "\n",
      "********************\n",
      "\n",
      "Furnished : 2\n",
      "Furnished\n",
      "No     16038\n",
      "Yes      499\n",
      "Name: count, dtype: int64\n",
      "\n",
      "********************\n",
      "\n",
      "Level : 13\n",
      "Level\n",
      "2     4297\n",
      "12    3111\n",
      "3     2643\n",
      "1     2158\n",
      "4     1245\n",
      "5      937\n",
      "11     517\n",
      "Name: count, dtype: int64\n",
      "\n",
      "********************\n",
      "\n",
      "Payment_Option : 3\n",
      "Payment_Option\n",
      "Cash                   8766\n",
      "Cash or Installment    5411\n",
      "Installment            2360\n",
      "Name: count, dtype: int64\n",
      "\n",
      "********************\n",
      "\n",
      "Delivery_Term : 4\n",
      "Delivery_Term\n",
      "Finished         8369\n",
      "Semi Finished    4101\n",
      "Not Finished     3375\n",
      "Core & Shell      692\n",
      "Name: count, dtype: int64\n",
      "\n",
      "********************\n",
      "\n",
      "City : 220\n",
      "City\n",
      "Sheikh Zayed              1682\n",
      "New Cairo - El Tagamoa    1647\n",
      "6th of October            1435\n",
      "Nakheel                   1173\n",
      "Madinaty                   878\n",
      "Mountain View iCity        495\n",
      "Smoha                      480\n",
      "Name: count, dtype: int64\n",
      "\n",
      "********************\n",
      "\n"
     ]
    }
   ],
   "source": [
    "# Iterating over each column in the DataFrame to analyze its unique values and top value counts\n",
    "for col in df.columns:\n",
    "    # Printing the column name followed by the number of unique values in that column\n",
    "    # `nunique()` gives the number of distinct values in the column\n",
    "    print(col, ':', df[col].nunique())\n",
    "\n",
    "    # Printing the 7 most frequent values in the column and their counts\n",
    "    # `value_counts()` counts the occurrences of each unique value in the column\n",
    "    # `nlargest(7)` returns the top 7 most frequent values\n",
    "    print(df[col].value_counts().nlargest(7))\n",
    "\n",
    "    # Adding a separator line to visually separate the output for each column\n",
    "    print('\\n' + '*' * 20 + '\\n')\n"
   ]
  },
  {
   "cell_type": "code",
   "execution_count": null,
   "id": "b52968a1",
   "metadata": {
    "execution": {
     "iopub.execute_input": "2023-11-11T17:53:23.020092Z",
     "iopub.status.busy": "2023-11-11T17:53:23.019388Z",
     "iopub.status.idle": "2023-11-11T17:53:23.081676Z",
     "shell.execute_reply": "2023-11-11T17:53:23.080437Z"
    },
    "id": "b52968a1",
    "papermill": {
     "duration": 0.078294,
     "end_time": "2023-11-11T17:53:23.085056",
     "exception": false,
     "start_time": "2023-11-11T17:53:23.006762",
     "status": "completed"
    },
    "tags": []
   },
   "outputs": [],
   "source": [
    "# Converting categorical columns into dummy/indicator variables\n",
    "# pd.get_dummies() creates binary (0 or 1) columns for each unique category within the specified categorical columns\n",
    "# It replaces the categorical columns with the newly created dummy columns\n",
    "df = pd.get_dummies(df, columns=['Type', 'Delivery_Term', 'Furnished', 'City', 'Payment_Option'])\n",
    "\n",
    "# Dropping the 'Price' column to create the features set 'X'\n",
    "X = df.drop(columns=['Price'])\n",
    "\n",
    "# Creating the target variable 'y' as the 'Price' column\n",
    "y = df[['Price']]\n"
   ]
  },
  {
   "cell_type": "markdown",
   "id": "5ca0f7a3",
   "metadata": {},
   "source": [
    "### Split Dataset"
   ]
  },
  {
   "cell_type": "code",
   "execution_count": null,
   "id": "36c42131",
   "metadata": {
    "colab": {
     "base_uri": "https://localhost:8080/"
    },
    "execution": {
     "iopub.execute_input": "2023-11-11T17:53:23.109482Z",
     "iopub.status.busy": "2023-11-11T17:53:23.109079Z",
     "iopub.status.idle": "2023-11-11T17:53:23.131094Z",
     "shell.execute_reply": "2023-11-11T17:53:23.130206Z"
    },
    "id": "36c42131",
    "outputId": "89682aca-d15b-4db1-fba0-4628941ff7b2",
    "papermill": {
     "duration": 0.037342,
     "end_time": "2023-11-11T17:53:23.133784",
     "exception": false,
     "start_time": "2023-11-11T17:53:23.096442",
     "status": "completed"
    },
    "tags": []
   },
   "outputs": [
    {
     "data": {
      "text/plain": [
       "((13229, 237), (3308, 237), (13229, 1), (3308, 1))"
      ]
     },
     "execution_count": 26,
     "metadata": {},
     "output_type": "execute_result"
    }
   ],
   "source": [
    "from sklearn.model_selection import train_test_split\n",
    "\n",
    "X_train, X_test, y_train, y_test = train_test_split(X, y, test_size=0.20, shuffle=True, random_state=404)\n",
    "\n",
    "X_train.shape, X_test.shape, y_train.shape, y_test.shape"
   ]
  },
  {
   "cell_type": "code",
   "execution_count": null,
   "id": "cdbcff7b",
   "metadata": {
    "execution": {
     "iopub.execute_input": "2023-11-11T17:53:23.159696Z",
     "iopub.status.busy": "2023-11-11T17:53:23.158953Z",
     "iopub.status.idle": "2023-11-11T17:53:23.165102Z",
     "shell.execute_reply": "2023-11-11T17:53:23.164060Z"
    },
    "id": "cdbcff7b",
    "papermill": {
     "duration": 0.021644,
     "end_time": "2023-11-11T17:53:23.167537",
     "exception": false,
     "start_time": "2023-11-11T17:53:23.145893",
     "status": "completed"
    },
    "tags": []
   },
   "outputs": [],
   "source": [
    "# Defining a function to evaluate the performance of a machine learning model\n",
    "def performance(model, X_train, y_train, y_pred, y_test):\n",
    "\n",
    "    # The score method returns the R^2 score of the model on the training data\n",
    "    print('Training Score:', model.score(X_train, y_train))\n",
    "\n",
    "    # r2_score evaluates the R^2 score of the predicted values against the true test target values (y_test)\n",
    "    print('Testing Score:', r2_score(y_test, y_pred))\n",
    "\n",
    "    print('Other Metrics In Testing Data: ')\n",
    "\n",
    "    print('MSE:', mean_squared_error(y_test, y_pred))\n",
    "\n",
    "    print('MAE:', mean_absolute_error(y_test, y_pred))"
   ]
  },
  {
   "cell_type": "markdown",
   "id": "51f55e5a",
   "metadata": {},
   "source": [
    "### Building a Machine Learning Models"
   ]
  },
  {
   "cell_type": "markdown",
   "id": "9b7180ed",
   "metadata": {},
   "source": [
    "#### 1 - Linear Regression"
   ]
  },
  {
   "cell_type": "code",
   "execution_count": null,
   "id": "5e1f39fc",
   "metadata": {
    "colab": {
     "base_uri": "https://localhost:8080/",
     "height": 656
    },
    "execution": {
     "iopub.execute_input": "2023-11-11T17:53:23.193084Z",
     "iopub.status.busy": "2023-11-11T17:53:23.191950Z",
     "iopub.status.idle": "2023-11-11T17:53:23.777985Z",
     "shell.execute_reply": "2023-11-11T17:53:23.776309Z"
    },
    "id": "5e1f39fc",
    "outputId": "60b627f9-fb35-4677-9ad8-a20837cbf2eb",
    "papermill": {
     "duration": 0.603717,
     "end_time": "2023-11-11T17:53:23.783016",
     "exception": false,
     "start_time": "2023-11-11T17:53:23.179299",
     "status": "completed"
    },
    "tags": []
   },
   "outputs": [
    {
     "name": "stdout",
     "output_type": "stream",
     "text": [
      "Training Score: 0.6843632809869825\n",
      "Testing Score: 0.6890464824199851\n",
      "Other Metrics In Testing Data: \n",
      "MSE: 1460618852465.072\n",
      "MAE: 841087.5114873035\n"
     ]
    },
    {
     "data": {
      "image/png": "[encoded data removed]",
      "text/plain": [
       "<Figure size 800x600 with 1 Axes>"
      ]
     },
     "metadata": {},
     "output_type": "display_data"
    }
   ],
   "source": [
    "# Linear Regression model\n",
    "lr = LinearRegression()\n",
    "\n",
    "# Training the model on the training data\n",
    "lr.fit(X_train, y_train)\n",
    "\n",
    "# Making predictions on the test data\n",
    "lr_pred = lr.predict(X_test)\n",
    "\n",
    "# Evaluating the model's performance by calling the performance function\n",
    "performance(lr, X_train, y_train, lr_pred, y_test)\n",
    "\n",
    "# Visualizing the relationship between actual and predicted values using a regression plot\n",
    "plt.figure(figsize=(8, 6))  # Set the figure size for better visualization\n",
    "sns.regplot(x=y_test, y=lr_pred, scatter_kws={'s': 50, 'color': 'blue'}, line_kws={'color': 'red', 'lw': 2})\n",
    "\n",
    "# Adding titles and labels to the plot for clarity\n",
    "plt.title('Linear Regression: Actual vs Predicted Prices', fontsize=14)\n",
    "plt.xlabel('Actual Prices', fontsize=12)\n",
    "plt.ylabel('Predicted Prices', fontsize=12)\n",
    "\n",
    "# Show the plot\n",
    "plt.show()\n"
   ]
  },
  {
   "cell_type": "markdown",
   "id": "0d8a279d",
   "metadata": {},
   "source": [
    "### 2 - Ridge Regression"
   ]
  },
  {
   "cell_type": "code",
   "execution_count": null,
   "id": "6a47884e",
   "metadata": {
    "colab": {
     "base_uri": "https://localhost:8080/"
    },
    "execution": {
     "iopub.execute_input": "2023-11-11T17:53:23.876592Z",
     "iopub.status.busy": "2023-11-11T17:53:23.876175Z",
     "iopub.status.idle": "2023-11-11T17:53:24.157596Z",
     "shell.execute_reply": "2023-11-11T17:53:24.156447Z"
    },
    "id": "6a47884e",
    "outputId": "3ae61e68-d738-4896-d01a-9383ef667a63",
    "papermill": {
     "duration": 0.339896,
     "end_time": "2023-11-11T17:53:24.161028",
     "exception": false,
     "start_time": "2023-11-11T17:53:23.821132",
     "status": "completed"
    },
    "tags": []
   },
   "outputs": [
    {
     "name": "stdout",
     "output_type": "stream",
     "text": [
      "Training Score: 0.6832292080186531\n",
      "Testing Score: 0.6884440648643069\n",
      "Other Metrics In Testing Data: \n",
      "MSE: 1463448543686.2144\n",
      "MAE: 844172.1715822741\n"
     ]
    }
   ],
   "source": [
    "# Initialize the Ridge regression model \n",
    "ridge = Ridge(alpha=1)\n",
    "\n",
    "# Train the Ridge regression model on the training data\n",
    "ridge.fit(X_train, y_train)\n",
    "\n",
    "# Predict the target variable (Price) for the test data using the trained model\n",
    "ridge_pred = ridge.predict(X_test)\n",
    "\n",
    "# Evaluate the Ridge regression model's performance\n",
    "performance(ridge, X_train, y_train, ridge_pred, y_test)\n"
   ]
  },
  {
   "cell_type": "markdown",
   "id": "46953529",
   "metadata": {},
   "source": [
    "#### 3 - Decision Tree"
   ]
  },
  {
   "cell_type": "code",
   "execution_count": null,
   "id": "a6292572",
   "metadata": {
    "colab": {
     "base_uri": "https://localhost:8080/"
    },
    "execution": {
     "iopub.execute_input": "2023-11-11T17:53:24.194828Z",
     "iopub.status.busy": "2023-11-11T17:53:24.194326Z",
     "iopub.status.idle": "2023-11-11T17:53:24.648522Z",
     "shell.execute_reply": "2023-11-11T17:53:24.647380Z"
    },
    "id": "a6292572",
    "outputId": "d4162f00-51bc-4cd5-e306-43d8852d3c5e",
    "papermill": {
     "duration": 0.474596,
     "end_time": "2023-11-11T17:53:24.651824",
     "exception": false,
     "start_time": "2023-11-11T17:53:24.177228",
     "status": "completed"
    },
    "tags": []
   },
   "outputs": [
    {
     "name": "stdout",
     "output_type": "stream",
     "text": [
      "Training Score: 0.9725821641164791\n",
      "Testing Score: 0.6696860147468813\n",
      "Other Metrics In Testing Data: \n",
      "MSE: 1551559338670.0537\n",
      "MAE: 708250.0765455348\n"
     ]
    }
   ],
   "source": [
    "# Initialize the Decision Tree Regressor model with a maximum depth of 60\n",
    "dt = DecisionTreeRegressor(max_depth=60)\n",
    "\n",
    "# Train the Decision Tree Regressor model on the training data\n",
    "dt.fit(X_train, y_train)\n",
    "\n",
    "# Predict the target variable (Price) for the test data using the trained model\n",
    "dt_pred = dt.predict(X_test)\n",
    "\n",
    "# Evaluate the Decision Tree Regressor model's performance\n",
    "performance(dt, X_train, y_train, dt_pred, y_test)\n"
   ]
  },
  {
   "cell_type": "markdown",
   "id": "c9824f14",
   "metadata": {},
   "source": [
    "#### 4 - Random Forest"
   ]
  },
  {
   "cell_type": "code",
   "execution_count": null,
   "id": "6127a24b",
   "metadata": {
    "colab": {
     "base_uri": "https://localhost:8080/"
    },
    "execution": {
     "iopub.execute_input": "2023-11-11T17:53:24.680215Z",
     "iopub.status.busy": "2023-11-11T17:53:24.679343Z",
     "iopub.status.idle": "2023-11-11T17:53:48.313291Z",
     "shell.execute_reply": "2023-11-11T17:53:48.311870Z"
    },
    "id": "6127a24b",
    "outputId": "1cf47258-3d3b-4481-d59d-3447df0f1dc9",
    "papermill": {
     "duration": 23.649593,
     "end_time": "2023-11-11T17:53:48.315789",
     "exception": false,
     "start_time": "2023-11-11T17:53:24.666196",
     "status": "completed"
    },
    "tags": []
   },
   "outputs": [
    {
     "name": "stdout",
     "output_type": "stream",
     "text": [
      "Training Score: 0.9464503984908458\n",
      "Testing Score: 0.7606555500924516\n",
      "Other Metrics In Testing Data: \n",
      "MSE: 1124254899859.3984\n",
      "MAE: 635288.1081955907\n"
     ]
    }
   ],
   "source": [
    "# Initialize the Random Forest Regressor model with 20 estimators (trees) and a maximum depth of 100\n",
    "rf = RandomForestRegressor(n_estimators=20, max_depth=100)\n",
    "\n",
    "# Train the Random Forest Regressor model on the training data\n",
    "# The target variable y_train is flattened using .values.ravel() to match the required input shape\n",
    "rf.fit(X_train, y_train.values.ravel())\n",
    "\n",
    "# Predict the target variable (Price) for the test data using the trained model\n",
    "rf_pred = rf.predict(X_test)\n",
    "\n",
    "# Evaluate the Random Forest Regressor model's performance\n",
    "performance(rf, X_train, y_train, rf_pred, y_test)\n"
   ]
  },
  {
   "cell_type": "markdown",
   "id": "6c6a293d",
   "metadata": {},
   "source": [
    "#### 5 - XGB Regressor"
   ]
  },
  {
   "cell_type": "code",
   "execution_count": null,
   "id": "2a5feb9b",
   "metadata": {
    "colab": {
     "base_uri": "https://localhost:8080/"
    },
    "execution": {
     "iopub.execute_input": "2023-11-11T17:53:48.341209Z",
     "iopub.status.busy": "2023-11-11T17:53:48.340796Z",
     "iopub.status.idle": "2023-11-11T17:53:54.282749Z",
     "shell.execute_reply": "2023-11-11T17:53:54.281764Z"
    },
    "id": "2a5feb9b",
    "outputId": "44a84551-9e54-4dda-8c82-222f773b1a73",
    "papermill": {
     "duration": 5.957868,
     "end_time": "2023-11-11T17:53:54.285510",
     "exception": false,
     "start_time": "2023-11-11T17:53:48.327642",
     "status": "completed"
    },
    "tags": []
   },
   "outputs": [
    {
     "name": "stdout",
     "output_type": "stream",
     "text": [
      "Training Score: 0.9820752739906311\n",
      "Testing Score: 0.7433891892433167\n",
      "Other Metrics In Testing Data: \n",
      "MSE: 1205358937333.224\n",
      "MAE: 623964.3515929069\n"
     ]
    }
   ],
   "source": [
    "# Initialize the XGBoost Regressor model with 400 estimators, a maximum depth of 30, and a learning rate of 0.1\n",
    "xgb = XGBRegressor(n_estimators=400, max_depth=30, learning_rate=0.1)\n",
    "\n",
    "# Train the XGBoost Regressor model on the training data\n",
    "xgb.fit(X_train, y_train)\n",
    "\n",
    "# Predict the target variable (Price) for the test data using the trained model\n",
    "xgb_pred = xgb.predict(X_test)\n",
    "\n",
    "# Evaluate the XGBoost Regressor model's performance\n",
    "performance(xgb, X_train, y_train, xgb_pred, y_test)\n"
   ]
  },
  {
   "cell_type": "markdown",
   "id": "d0b479d6",
   "metadata": {},
   "source": [
    "#### 6 - Support Vector Machine ( SVM )"
   ]
  },
  {
   "cell_type": "code",
   "execution_count": null,
   "id": "YtRu2vwVUBc0",
   "metadata": {
    "colab": {
     "base_uri": "https://localhost:8080/"
    },
    "id": "YtRu2vwVUBc0",
    "outputId": "9e037ec4-fbc9-4c5b-bd70-ed370d77f480"
   },
   "outputs": [
    {
     "name": "stdout",
     "output_type": "stream",
     "text": [
      "Training Score: 0.06644856619011852\n",
      "Testing Score: 0.051333328947741674\n",
      "Other Metrics In Testing Data: \n",
      "MSE: 4456101462456.217\n",
      "MAE: 1497909.1050632107\n"
     ]
    }
   ],
   "source": [
    "from sklearn.svm import SVR\n",
    "\n",
    "# Initialize the SVR model with Linear kernel\n",
    "svr = SVR(kernel='linear', C=10, epsilon=0.1)\n",
    "\n",
    "# Train the SVR model on the training data\n",
    "svr.fit(X_train, y_train.values.ravel())\n",
    "\n",
    "# Predict the target variable (Price) for the test data\n",
    "svr_pred = svr.predict(X_test)\n",
    "\n",
    "# Evaluate the SVR model's performance\n",
    "performance(svr, X_train, y_train, svr_pred, y_test)\n"
   ]
  },
  {
   "cell_type": "markdown",
   "id": "cb385359",
   "metadata": {},
   "source": [
    "#### 7 - Gradient Boosting"
   ]
  },
  {
   "cell_type": "code",
   "execution_count": null,
   "id": "rG02LORCUBZM",
   "metadata": {
    "colab": {
     "base_uri": "https://localhost:8080/"
    },
    "id": "rG02LORCUBZM",
    "outputId": "df272d9b-90de-4a39-b479-9d35850819a7"
   },
   "outputs": [
    {
     "name": "stdout",
     "output_type": "stream",
     "text": [
      "Training Score: 0.7223040306077673\n",
      "Testing Score: 0.7018344759676813\n",
      "Other Metrics In Testing Data: \n",
      "MSE: 1400550760596.1306\n",
      "MAE: 855006.4943548313\n"
     ]
    }
   ],
   "source": [
    "from sklearn.ensemble import GradientBoostingRegressor\n",
    "\n",
    "# Initialize the Gradient Boosting Regressor with specific parameters\n",
    "gbr = GradientBoostingRegressor(n_estimators=300, learning_rate=0.1, max_depth=3, random_state=0)\n",
    "\n",
    "# Train the Gradient Boosting Regressor model on the training data\n",
    "gbr.fit(X_train, y_train.values.ravel())\n",
    "\n",
    "# Predict the target variable (Price) for the test data\n",
    "gbr_pred = gbr.predict(X_test)\n",
    "\n",
    "# Evaluate the Gradient Boosting Regressor model's performance\n",
    "performance(gbr, X_train, y_train, gbr_pred, y_test)\n"
   ]
  },
  {
   "cell_type": "markdown",
   "id": "a6c47300",
   "metadata": {},
   "source": [
    "#### 8 - KNeighbors Regressor ( KNN )"
   ]
  },
  {
   "cell_type": "code",
   "execution_count": null,
   "id": "1f3JKTrcUBWb",
   "metadata": {
    "colab": {
     "base_uri": "https://localhost:8080/"
    },
    "id": "1f3JKTrcUBWb",
    "outputId": "e0f719eb-8c24-4bf8-be18-29ad9c1fd8d6"
   },
   "outputs": [
    {
     "name": "stdout",
     "output_type": "stream",
     "text": [
      "Training Score: 0.6546720037049202\n",
      "Testing Score: 0.43192042023213884\n",
      "Other Metrics In Testing Data: \n",
      "MSE: 2668397998411.0073\n",
      "MAE: 1014784.9539298671\n"
     ]
    }
   ],
   "source": [
    "from sklearn.neighbors import KNeighborsRegressor\n",
    "\n",
    "# Initialize the KNN Regressor model with k=5 neighbors\n",
    "knn = KNeighborsRegressor(n_neighbors=5)\n",
    "\n",
    "# Train the KNN Regressor model on the training data\n",
    "knn.fit(X_train, y_train)\n",
    "\n",
    "# Predict the target variable (Price) for the test data\n",
    "knn_pred = knn.predict(X_test)\n",
    "\n",
    "# Evaluate the KNN Regressor model's performance\n",
    "performance(knn, X_train, y_train, knn_pred, y_test)\n"
   ]
  },
  {
   "cell_type": "markdown",
   "id": "6413ab9a",
   "metadata": {},
   "source": [
    "#### 9 - Lasso Regressor"
   ]
  },
  {
   "cell_type": "code",
   "execution_count": null,
   "id": "rsTJDc7MUBTv",
   "metadata": {
    "colab": {
     "base_uri": "https://localhost:8080/"
    },
    "id": "rsTJDc7MUBTv",
    "outputId": "9afc8f68-7a13-4a7f-d399-246965500df9"
   },
   "outputs": [
    {
     "name": "stdout",
     "output_type": "stream",
     "text": [
      "Training Score: 0.6843633041293171\n",
      "Testing Score: 0.6890478834361397\n",
      "Other Metrics In Testing Data: \n",
      "MSE: 1460612271575.9927\n",
      "MAE: 841081.1853025686\n"
     ]
    },
    {
     "name": "stderr",
     "output_type": "stream",
     "text": [
      "/usr/local/lib/python3.10/dist-packages/sklearn/linear_model/_coordinate_descent.py:697: ConvergenceWarning: Objective did not converge. You might want to increase the number of iterations, check the scale of the features or consider increasing regularisation. Duality gap: 2.543e+14, tolerance: 6.119e+12\n",
      "  model = cd_fast.enet_coordinate_descent(\n"
     ]
    }
   ],
   "source": [
    "from sklearn.linear_model import Lasso\n",
    "\n",
    "# Initialize the Lasso regression model with alpha (regularization strength)\n",
    "lasso = Lasso(alpha=0.1)\n",
    "\n",
    "# Train the Lasso regression model on the training data\n",
    "lasso.fit(X_train, y_train)\n",
    "\n",
    "# Predict the target variable (Price) for the test data\n",
    "lasso_pred = lasso.predict(X_test)\n",
    "\n",
    "# Evaluate the Lasso regression model's performance\n",
    "performance(lasso, X_train, y_train, lasso_pred, y_test)\n"
   ]
  },
  {
   "cell_type": "markdown",
   "id": "59d7f1d4",
   "metadata": {},
   "source": [
    "#### 10 - ElasticNet "
   ]
  },
  {
   "cell_type": "code",
   "execution_count": null,
   "id": "C_tFj5BMUBQ2",
   "metadata": {
    "colab": {
     "base_uri": "https://localhost:8080/"
    },
    "id": "C_tFj5BMUBQ2",
    "outputId": "975a8e0e-2d4a-40a2-b5de-f69c23e29ceb"
   },
   "outputs": [
    {
     "name": "stdout",
     "output_type": "stream",
     "text": [
      "Training Score: 0.35338288178711397\n",
      "Testing Score: 0.3630373026270446\n",
      "Other Metrics In Testing Data: \n",
      "MSE: 2991957548319.2334\n",
      "MAE: 1242152.3572302132\n"
     ]
    }
   ],
   "source": [
    "from sklearn.linear_model import ElasticNet\n",
    "\n",
    "# Initialize the ElasticNet regression model with alpha and l1_ratio\n",
    "elasticnet = ElasticNet(alpha=0.1, l1_ratio=0.5)\n",
    "\n",
    "# Train the ElasticNet regression model on the training data\n",
    "elasticnet.fit(X_train, y_train)\n",
    "\n",
    "# Predict the target variable (Price) for the test data\n",
    "elasticnet_pred = elasticnet.predict(X_test)\n",
    "\n",
    "# Evaluate the ElasticNet regression model's performance\n",
    "performance(elasticnet, X_train, y_train, elasticnet_pred, y_test)\n"
   ]
  },
  {
   "cell_type": "markdown",
   "id": "806dece2",
   "metadata": {},
   "source": [
    "#### 11 - LGBM Regressor"
   ]
  },
  {
   "cell_type": "code",
   "execution_count": null,
   "id": "sU-ynU44UBLB",
   "metadata": {
    "colab": {
     "base_uri": "https://localhost:8080/"
    },
    "id": "sU-ynU44UBLB",
    "outputId": "1a02e48b-ada5-427c-cd81-8ab2bcf104de"
   },
   "outputs": [
    {
     "name": "stdout",
     "output_type": "stream",
     "text": [
      "[LightGBM] [Warning] Found whitespace in feature_names, replace with underlines\n",
      "[LightGBM] [Info] Auto-choosing row-wise multi-threading, the overhead of testing was 0.001002 seconds.\n",
      "You can set `force_row_wise=true` to remove the overhead.\n",
      "And if memory is not enough, you can set `force_col_wise=true`.\n",
      "[LightGBM] [Info] Total Bins 495\n",
      "[LightGBM] [Info] Number of data points in the train set: 13229, number of used features: 118\n",
      "[LightGBM] [Info] Start training from score 2753020.885479\n",
      "[LightGBM] [Warning] No further splits with positive gain, best gain: -inf\n",
      "[LightGBM] [Warning] No further splits with positive gain, best gain: -inf\n",
      "[LightGBM] [Warning] No further splits with positive gain, best gain: -inf\n",
      "[LightGBM] [Warning] No further splits with positive gain, best gain: -inf\n",
      "[LightGBM] [Warning] No further splits with positive gain, best gain: -inf\n",
      "[LightGBM] [Warning] No further splits with positive gain, best gain: -inf\n",
      "[LightGBM] [Warning] No further splits with positive gain, best gain: -inf\n",
      "[LightGBM] [Warning] No further splits with positive gain, best gain: -inf\n",
      "[LightGBM] [Warning] No further splits with positive gain, best gain: -inf\n",
      "[LightGBM] [Warning] No further splits with positive gain, best gain: -inf\n",
      "[LightGBM] [Warning] No further splits with positive gain, best gain: -inf\n",
      "[LightGBM] [Warning] No further splits with positive gain, best gain: -inf\n",
      "Training Score: 0.8242550109953342\n",
      "Testing Score: 0.729086528021234\n",
      "Other Metrics In Testing Data: \n",
      "MSE: 1272541721471.703\n",
      "MAE: 719854.1226997753\n"
     ]
    }
   ],
   "source": [
    "from lightgbm import LGBMRegressor\n",
    "\n",
    "# Initialize the LightGBM Regressor with specific parameters\n",
    "lgbm = LGBMRegressor(n_estimators=500, learning_rate=0.1, max_depth=15)\n",
    "\n",
    "# Train the LightGBM Regressor model on the training data\n",
    "lgbm.fit(X_train, y_train.values.ravel())\n",
    "\n",
    "# Predict the target variable (Price) for the test data\n",
    "lgbm_pred = lgbm.predict(X_test)\n",
    "\n",
    "# Evaluate the LightGBM Regressor model's performance\n",
    "performance(lgbm, X_train, y_train, lgbm_pred, y_test)\n"
   ]
  },
  {
   "cell_type": "markdown",
   "id": "ffaa62e6",
   "metadata": {},
   "source": [
    "#### 12 - Multi Layers Perceptrons ( MLP )"
   ]
  },
  {
   "cell_type": "code",
   "execution_count": null,
   "id": "O_rTISI2WZ8r",
   "metadata": {
    "colab": {
     "base_uri": "https://localhost:8080/"
    },
    "id": "O_rTISI2WZ8r",
    "outputId": "83ab8fea-ce3d-491a-f70d-485bbbd3120f"
   },
   "outputs": [
    {
     "name": "stdout",
     "output_type": "stream",
     "text": [
      "Training Score: 0.786692520687167\n",
      "Testing Score: 0.7496028865861168\n",
      "MSE: 1176171754870.2153\n",
      "MAE: 706066.6078380644\n"
     ]
    },
    {
     "name": "stderr",
     "output_type": "stream",
     "text": [
      "/usr/local/lib/python3.10/dist-packages/sklearn/neural_network/_multilayer_perceptron.py:690: ConvergenceWarning: Stochastic Optimizer: Maximum iterations (500) reached and the optimization hasn't converged yet.\n",
      "  warnings.warn(\n"
     ]
    }
   ],
   "source": [
    "from sklearn.neural_network import MLPRegressor\n",
    "\n",
    "# Standardizing the data\n",
    "scaler = StandardScaler()\n",
    "X_train_scaled = scaler.fit_transform(X_train)\n",
    "X_test_scaled = scaler.transform(X_test)\n",
    "\n",
    "# Define the MLPRegressor model\n",
    "mlp = MLPRegressor(\n",
    "    hidden_layer_sizes=(128, 64, 32),  # Three hidden layers with specified neurons\n",
    "    activation='relu',                # Activation function for hidden layers\n",
    "    solver='adam',                    # Optimizer\n",
    "    alpha=0.001,                      # L2 regularization (weight decay)\n",
    "    max_iter=500,                     # Maximum iterations\n",
    "    random_state=42                   # Seed for reproducibility\n",
    ")\n",
    "\n",
    "# Train the model\n",
    "mlp.fit(X_train_scaled, y_train.values.ravel())\n",
    "\n",
    "# Predict on the test set\n",
    "mlp_pred = mlp.predict(X_test_scaled)\n",
    "\n",
    "# Evaluate performance\n",
    "print(\"Training Score:\", mlp.score(X_train_scaled, y_train))\n",
    "print(\"Testing Score:\", r2_score(y_test, mlp_pred))\n",
    "print(\"MSE:\", mean_squared_error(y_test, mlp_pred))\n",
    "print(\"MAE:\", mean_absolute_error(y_test, mlp_pred))\n"
   ]
  },
  {
   "cell_type": "markdown",
   "id": "2be8556e",
   "metadata": {},
   "source": [
    "#### 13 - Keras Nueral Networks"
   ]
  },
  {
   "cell_type": "code",
   "execution_count": null,
   "id": "jUpuezmG6372",
   "metadata": {
    "colab": {
     "base_uri": "https://localhost:8080/"
    },
    "id": "jUpuezmG6372",
    "outputId": "137b3c2d-b5d0-4907-8e99-3cd8daae2c00"
   },
   "outputs": [
    {
     "name": "stdout",
     "output_type": "stream",
     "text": [
      "Epoch 1/10\n"
     ]
    },
    {
     "name": "stderr",
     "output_type": "stream",
     "text": [
      "/usr/local/lib/python3.10/dist-packages/keras/src/layers/core/dense.py:87: UserWarning: Do not pass an `input_shape`/`input_dim` argument to a layer. When using Sequential models, prefer using an `Input(shape)` object as the first layer in the model instead.\n",
      "  super().__init__(activity_regularizer=activity_regularizer, **kwargs)\n"
     ]
    },
    {
     "name": "stdout",
     "output_type": "stream",
     "text": [
      "\u001b[1m414/414\u001b[0m \u001b[32m━━━━━━━━━━━━━━━━━━━━\u001b[0m\u001b[37m\u001b[0m \u001b[1m5s\u001b[0m 6ms/step - loss: 0.6563 - mae: 0.5608 - val_loss: 0.3056 - val_mae: 0.3683\n",
      "Epoch 2/10\n",
      "\u001b[1m414/414\u001b[0m \u001b[32m━━━━━━━━━━━━━━━━━━━━\u001b[0m\u001b[37m\u001b[0m \u001b[1m1s\u001b[0m 2ms/step - loss: 0.2805 - mae: 0.3627 - val_loss: 0.2847 - val_mae: 0.3509\n",
      "Epoch 3/10\n",
      "\u001b[1m414/414\u001b[0m \u001b[32m━━━━━━━━━━━━━━━━━━━━\u001b[0m\u001b[37m\u001b[0m \u001b[1m1s\u001b[0m 3ms/step - loss: 0.2646 - mae: 0.3490 - val_loss: 0.2650 - val_mae: 0.3395\n",
      "Epoch 4/10\n",
      "\u001b[1m414/414\u001b[0m \u001b[32m━━━━━━━━━━━━━━━━━━━━\u001b[0m\u001b[37m\u001b[0m \u001b[1m1s\u001b[0m 2ms/step - loss: 0.2735 - mae: 0.3407 - val_loss: 0.2503 - val_mae: 0.3294\n",
      "Epoch 5/10\n",
      "\u001b[1m414/414\u001b[0m \u001b[32m━━━━━━━━━━━━━━━━━━━━\u001b[0m\u001b[37m\u001b[0m \u001b[1m1s\u001b[0m 2ms/step - loss: 0.2401 - mae: 0.3310 - val_loss: 0.2623 - val_mae: 0.3366\n",
      "Epoch 6/10\n",
      "\u001b[1m414/414\u001b[0m \u001b[32m━━━━━━━━━━━━━━━━━━━━\u001b[0m\u001b[37m\u001b[0m \u001b[1m2s\u001b[0m 3ms/step - loss: 0.2393 - mae: 0.3270 - val_loss: 0.2384 - val_mae: 0.3194\n",
      "Epoch 7/10\n",
      "\u001b[1m414/414\u001b[0m \u001b[32m━━━━━━━━━━━━━━━━━━━━\u001b[0m\u001b[37m\u001b[0m \u001b[1m2s\u001b[0m 2ms/step - loss: 0.2405 - mae: 0.3281 - val_loss: 0.2521 - val_mae: 0.3200\n",
      "Epoch 8/10\n",
      "\u001b[1m414/414\u001b[0m \u001b[32m━━━━━━━━━━━━━━━━━━━━\u001b[0m\u001b[37m\u001b[0m \u001b[1m1s\u001b[0m 2ms/step - loss: 0.2421 - mae: 0.3158 - val_loss: 0.2506 - val_mae: 0.3204\n",
      "Epoch 9/10\n",
      "\u001b[1m414/414\u001b[0m \u001b[32m━━━━━━━━━━━━━━━━━━━━\u001b[0m\u001b[37m\u001b[0m \u001b[1m1s\u001b[0m 2ms/step - loss: 0.2177 - mae: 0.3133 - val_loss: 0.2448 - val_mae: 0.3190\n",
      "Epoch 10/10\n",
      "\u001b[1m414/414\u001b[0m \u001b[32m━━━━━━━━━━━━━━━━━━━━\u001b[0m\u001b[37m\u001b[0m \u001b[1m1s\u001b[0m 2ms/step - loss: 0.2216 - mae: 0.3117 - val_loss: 0.2389 - val_mae: 0.3178\n",
      "\u001b[1m414/414\u001b[0m \u001b[32m━━━━━━━━━━━━━━━━━━━━\u001b[0m\u001b[37m\u001b[0m \u001b[1m1s\u001b[0m 2ms/step\n",
      "\u001b[1m104/104\u001b[0m \u001b[32m━━━━━━━━━━━━━━━━━━━━\u001b[0m\u001b[37m\u001b[0m \u001b[1m0s\u001b[0m 2ms/step\n",
      "\n",
      "Model Performance:\n",
      "Train R² Score: 0.7965\n",
      "Test R² Score: 0.7647\n",
      "Train MSE: 941190662149.7422\n",
      "Test MSE: 1105031467188.0300\n",
      "Train MAE: 619580.9958\n",
      "Test MAE: 683534.4799\n"
     ]
    }
   ],
   "source": [
    "from tensorflow.keras.models import Sequential\n",
    "from tensorflow.keras.layers import Dense, Dropout\n",
    "from tensorflow.keras.optimizers import Adam\n",
    "\n",
    "# Standardizing the data\n",
    "scaler_X = StandardScaler()\n",
    "X_train_scaled = scaler_X.fit_transform(X_train)\n",
    "X_test_scaled = scaler_X.transform(X_test)\n",
    "\n",
    "scaler_y = StandardScaler()\n",
    "y_train_scaled = scaler_y.fit_transform(y_train)\n",
    "y_test_scaled = scaler_y.transform(y_test)\n",
    "\n",
    "# Define the NN architecture\n",
    "nn_model = Sequential()\n",
    "\n",
    "# Input layer and first hidden layer\n",
    "nn_model.add(Dense(128, input_dim=X_train_scaled.shape[1], activation='relu'))\n",
    "\n",
    "# Second hidden layer\n",
    "nn_model.add(Dense(64, activation='relu'))\n",
    "\n",
    "# Third hidden layer\n",
    "nn_model.add(Dense(32, activation='relu'))\n",
    "\n",
    "# Optional: Dropout layer\n",
    "nn_model.add(Dropout(0.1))\n",
    "\n",
    "# Output layer\n",
    "nn_model.add(Dense(1, activation='linear'))\n",
    "\n",
    "# Compile the model\n",
    "nn_model.compile(optimizer=Adam(learning_rate=0.001), loss='mse', metrics=['mae'])\n",
    "\n",
    "# Train the model\n",
    "history = nn_model.fit(\n",
    "    X_train_scaled, y_train_scaled,\n",
    "    validation_data=(X_test_scaled, y_test_scaled),\n",
    "    epochs=10, \n",
    "    batch_size=32,\n",
    "    verbose=1\n",
    ")\n",
    "\n",
    "# Evaluate the model\n",
    "y_pred_train = scaler_y.inverse_transform(nn_model.predict(X_train_scaled))\n",
    "y_pred_test = scaler_y.inverse_transform(nn_model.predict(X_test_scaled))\n",
    "\n",
    "# Calculate metrics\n",
    "r2_train = r2_score(y_train, y_pred_train)\n",
    "r2_test = r2_score(y_test, y_pred_test)\n",
    "mse_train = mean_squared_error(y_train, y_pred_train)\n",
    "mse_test = mean_squared_error(y_test, y_pred_test)\n",
    "mae_train = mean_absolute_error(y_train, y_pred_train)\n",
    "mae_test = mean_absolute_error(y_test, y_pred_test)\n",
    "\n",
    "# Display metrics\n",
    "print(\"\\nModel Performance:\")\n",
    "print(f\"Train R² Score: {r2_train:.4f}\")\n",
    "print(f\"Test R² Score: {r2_test:.4f}\")\n",
    "print(f\"Train MSE: {mse_train:.4f}\")\n",
    "print(f\"Test MSE: {mse_test:.4f}\")\n",
    "print(f\"Train MAE: {mae_train:.4f}\")\n",
    "print(f\"Test MAE: {mae_test:.4f}\")\n"
   ]
  },
  {
   "cell_type": "markdown",
   "id": "bc15a4dd",
   "metadata": {},
   "source": [
    "#### 13 - Keras Nueral Networks ( Another Model )"
   ]
  },
  {
   "cell_type": "code",
   "execution_count": null,
   "id": "fpuoEnAy9QoE",
   "metadata": {
    "colab": {
     "base_uri": "https://localhost:8080/"
    },
    "id": "fpuoEnAy9QoE",
    "outputId": "11e54ab1-dc78-4e0c-a61a-ed1f4a7b6a40"
   },
   "outputs": [
    {
     "name": "stdout",
     "output_type": "stream",
     "text": [
      "Epoch 1/120\n"
     ]
    },
    {
     "name": "stderr",
     "output_type": "stream",
     "text": [
      "/usr/local/lib/python3.10/dist-packages/keras/src/layers/core/dense.py:87: UserWarning: Do not pass an `input_shape`/`input_dim` argument to a layer. When using Sequential models, prefer using an `Input(shape)` object as the first layer in the model instead.\n",
      "  super().__init__(activity_regularizer=activity_regularizer, **kwargs)\n"
     ]
    },
    {
     "name": "stdout",
     "output_type": "stream",
     "text": [
      "\u001b[1m207/207\u001b[0m \u001b[32m━━━━━━━━━━━━━━━━━━━━\u001b[0m\u001b[37m\u001b[0m \u001b[1m0s\u001b[0m 9ms/step - loss: 0.7018 - mae: 0.5772Epoch 1: Train R² = 0.7100, Validation R² = 0.7032\n",
      "\u001b[1m207/207\u001b[0m \u001b[32m━━━━━━━━━━━━━━━━━━━━\u001b[0m\u001b[37m\u001b[0m \u001b[1m6s\u001b[0m 18ms/step - loss: 0.7009 - mae: 0.5767 - val_loss: 0.3014 - val_mae: 0.3686\n",
      "Epoch 2/120\n",
      "\u001b[1m202/207\u001b[0m \u001b[32m━━━━━━━━━━━━━━━━━━━\u001b[0m\u001b[37m━\u001b[0m \u001b[1m0s\u001b[0m 2ms/step - loss: 0.3421 - mae: 0.3778Epoch 2: Train R² = 0.7478, Validation R² = 0.7391\n",
      "\u001b[1m207/207\u001b[0m \u001b[32m━━━━━━━━━━━━━━━━━━━━\u001b[0m\u001b[37m\u001b[0m \u001b[1m6s\u001b[0m 7ms/step - loss: 0.3412 - mae: 0.3777 - val_loss: 0.2650 - val_mae: 0.3460\n",
      "Epoch 3/120\n",
      "\u001b[1m186/207\u001b[0m \u001b[32m━━━━━━━━━━━━━━━━━\u001b[0m\u001b[37m━━━\u001b[0m \u001b[1m0s\u001b[0m 2ms/step - loss: 0.2647 - mae: 0.3408Epoch 3: Train R² = 0.7568, Validation R² = 0.7468\n",
      "\u001b[1m207/207\u001b[0m \u001b[32m━━━━━━━━━━━━━━━━━━━━\u001b[0m\u001b[37m\u001b[0m \u001b[1m3s\u001b[0m 7ms/step - loss: 0.2664 - mae: 0.3416 - val_loss: 0.2572 - val_mae: 0.3405\n",
      "Epoch 4/120\n",
      "\u001b[1m205/207\u001b[0m \u001b[32m━━━━━━━━━━━━━━━━━━━\u001b[0m\u001b[37m━\u001b[0m \u001b[1m0s\u001b[0m 2ms/step - loss: 0.2569 - mae: 0.3358Epoch 4: Train R² = 0.7728, Validation R² = 0.7475\n",
      "\u001b[1m207/207\u001b[0m \u001b[32m━━━━━━━━━━━━━━━━━━━━\u001b[0m\u001b[37m\u001b[0m \u001b[1m2s\u001b[0m 10ms/step - loss: 0.2571 - mae: 0.3359 - val_loss: 0.2565 - val_mae: 0.3301\n",
      "Epoch 5/120\n",
      "\u001b[1m207/207\u001b[0m \u001b[32m━━━━━━━━━━━━━━━━━━━━\u001b[0m\u001b[37m\u001b[0m \u001b[1m0s\u001b[0m 2ms/step - loss: 0.2727 - mae: 0.3380Epoch 5: Train R² = 0.7759, Validation R² = 0.7590\n",
      "\u001b[1m207/207\u001b[0m \u001b[32m━━━━━━━━━━━━━━━━━━━━\u001b[0m\u001b[37m\u001b[0m \u001b[1m2s\u001b[0m 8ms/step - loss: 0.2727 - mae: 0.3379 - val_loss: 0.2448 - val_mae: 0.3229\n",
      "Epoch 6/120\n",
      "\u001b[1m190/207\u001b[0m \u001b[32m━━━━━━━━━━━━━━━━━━\u001b[0m\u001b[37m━━\u001b[0m \u001b[1m0s\u001b[0m 2ms/step - loss: 0.2478 - mae: 0.3264Epoch 6: Train R² = 0.7804, Validation R² = 0.7636\n",
      "\u001b[1m207/207\u001b[0m \u001b[32m━━━━━━━━━━━━━━━━━━━━\u001b[0m\u001b[37m\u001b[0m \u001b[1m2s\u001b[0m 11ms/step - loss: 0.2486 - mae: 0.3267 - val_loss: 0.2401 - val_mae: 0.3155\n",
      "Epoch 7/120\n",
      "\u001b[1m186/207\u001b[0m \u001b[32m━━━━━━━━━━━━━━━━━\u001b[0m\u001b[37m━━━\u001b[0m \u001b[1m0s\u001b[0m 2ms/step - loss: 0.2258 - mae: 0.3153Epoch 7: Train R² = 0.7913, Validation R² = 0.7646\n",
      "\u001b[1m207/207\u001b[0m \u001b[32m━━━━━━━━━━━━━━━━━━━━\u001b[0m\u001b[37m\u001b[0m \u001b[1m2s\u001b[0m 11ms/step - loss: 0.2271 - mae: 0.3158 - val_loss: 0.2390 - val_mae: 0.3200\n",
      "Epoch 8/120\n",
      "\u001b[1m188/207\u001b[0m \u001b[32m━━━━━━━━━━━━━━━━━━\u001b[0m\u001b[37m━━\u001b[0m \u001b[1m0s\u001b[0m 2ms/step - loss: 0.2133 - mae: 0.3071Epoch 8: Train R² = 0.7910, Validation R² = 0.7536\n",
      "\u001b[1m207/207\u001b[0m \u001b[32m━━━━━━━━━━━━━━━━━━━━\u001b[0m\u001b[37m\u001b[0m \u001b[1m2s\u001b[0m 7ms/step - loss: 0.2152 - mae: 0.3080 - val_loss: 0.2502 - val_mae: 0.3214\n",
      "Epoch 9/120\n",
      "\u001b[1m204/207\u001b[0m \u001b[32m━━━━━━━━━━━━━━━━━━━\u001b[0m\u001b[37m━\u001b[0m \u001b[1m0s\u001b[0m 2ms/step - loss: 0.2221 - mae: 0.3159Epoch 9: Train R² = 0.8051, Validation R² = 0.7638\n",
      "\u001b[1m207/207\u001b[0m \u001b[32m━━━━━━━━━━━━━━━━━━━━\u001b[0m\u001b[37m\u001b[0m \u001b[1m3s\u001b[0m 10ms/step - loss: 0.2223 - mae: 0.3159 - val_loss: 0.2398 - val_mae: 0.3122\n",
      "Epoch 10/120\n",
      "\u001b[1m199/207\u001b[0m \u001b[32m━━━━━━━━━━━━━━━━━━━\u001b[0m\u001b[37m━\u001b[0m \u001b[1m0s\u001b[0m 2ms/step - loss: 0.2045 - mae: 0.3033Epoch 10: Train R² = 0.8102, Validation R² = 0.7663\n",
      "\u001b[1m207/207\u001b[0m \u001b[32m━━━━━━━━━━━━━━━━━━━━\u001b[0m\u001b[37m\u001b[0m \u001b[1m2s\u001b[0m 8ms/step - loss: 0.2055 - mae: 0.3036 - val_loss: 0.2373 - val_mae: 0.3143\n",
      "Epoch 11/120\n",
      "\u001b[1m203/207\u001b[0m \u001b[32m━━━━━━━━━━━━━━━━━━━\u001b[0m\u001b[37m━\u001b[0m \u001b[1m0s\u001b[0m 2ms/step - loss: 0.2008 - mae: 0.2990Epoch 11: Train R² = 0.8033, Validation R² = 0.7669\n",
      "\u001b[1m207/207\u001b[0m \u001b[32m━━━━━━━━━━━━━━━━━━━━\u001b[0m\u001b[37m\u001b[0m \u001b[1m3s\u001b[0m 10ms/step - loss: 0.2012 - mae: 0.2992 - val_loss: 0.2367 - val_mae: 0.3114\n",
      "Epoch 12/120\n",
      "\u001b[1m198/207\u001b[0m \u001b[32m━━━━━━━━━━━━━━━━━━━\u001b[0m\u001b[37m━\u001b[0m \u001b[1m0s\u001b[0m 3ms/step - loss: 0.2234 - mae: 0.3009Epoch 12: Train R² = 0.8122, Validation R² = 0.7646\n",
      "\u001b[1m207/207\u001b[0m \u001b[32m━━━━━━━━━━━━━━━━━━━━\u001b[0m\u001b[37m\u001b[0m \u001b[1m3s\u001b[0m 12ms/step - loss: 0.2231 - mae: 0.3011 - val_loss: 0.2390 - val_mae: 0.3149\n",
      "Epoch 13/120\n",
      "\u001b[1m201/207\u001b[0m \u001b[32m━━━━━━━━━━━━━━━━━━━\u001b[0m\u001b[37m━\u001b[0m \u001b[1m0s\u001b[0m 2ms/step - loss: 0.2054 - mae: 0.3036Epoch 13: Train R² = 0.8140, Validation R² = 0.7661\n",
      "\u001b[1m207/207\u001b[0m \u001b[32m━━━━━━━━━━━━━━━━━━━━\u001b[0m\u001b[37m\u001b[0m \u001b[1m2s\u001b[0m 10ms/step - loss: 0.2056 - mae: 0.3036 - val_loss: 0.2375 - val_mae: 0.3176\n",
      "Epoch 14/120\n",
      "\u001b[1m196/207\u001b[0m \u001b[32m━━━━━━━━━━━━━━━━━━\u001b[0m\u001b[37m━━\u001b[0m \u001b[1m0s\u001b[0m 2ms/step - loss: 0.2047 - mae: 0.2958Epoch 14: Train R² = 0.8194, Validation R² = 0.7647\n",
      "\u001b[1m207/207\u001b[0m \u001b[32m━━━━━━━━━━━━━━━━━━━━\u001b[0m\u001b[37m\u001b[0m \u001b[1m2s\u001b[0m 7ms/step - loss: 0.2049 - mae: 0.2959 - val_loss: 0.2389 - val_mae: 0.3175\n",
      "Epoch 15/120\n",
      "\u001b[1m176/207\u001b[0m \u001b[32m━━━━━━━━━━━━━━━━━\u001b[0m\u001b[37m━━━\u001b[0m \u001b[1m0s\u001b[0m 2ms/step - loss: 0.1982 - mae: 0.2936Epoch 15: Train R² = 0.8199, Validation R² = 0.7657\n",
      "\u001b[1m207/207\u001b[0m \u001b[32m━━━━━━━━━━━━━━━━━━━━\u001b[0m\u001b[37m\u001b[0m \u001b[1m2s\u001b[0m 7ms/step - loss: 0.1993 - mae: 0.2943 - val_loss: 0.2380 - val_mae: 0.3145\n",
      "Epoch 16/120\n",
      "\u001b[1m200/207\u001b[0m \u001b[32m━━━━━━━━━━━━━━━━━━━\u001b[0m\u001b[37m━\u001b[0m \u001b[1m0s\u001b[0m 2ms/step - loss: 0.1963 - mae: 0.2938Epoch 16: Train R² = 0.8190, Validation R² = 0.7705\n",
      "\u001b[1m207/207\u001b[0m \u001b[32m━━━━━━━━━━━━━━━━━━━━\u001b[0m\u001b[37m\u001b[0m \u001b[1m2s\u001b[0m 7ms/step - loss: 0.1967 - mae: 0.2939 - val_loss: 0.2331 - val_mae: 0.3064\n",
      "Epoch 17/120\n",
      "\u001b[1m197/207\u001b[0m \u001b[32m━━━━━━━━━━━━━━━━━━━\u001b[0m\u001b[37m━\u001b[0m \u001b[1m0s\u001b[0m 2ms/step - loss: 0.2091 - mae: 0.2976Epoch 17: Train R² = 0.8282, Validation R² = 0.7788\n",
      "\u001b[1m207/207\u001b[0m \u001b[32m━━━━━━━━━━━━━━━━━━━━\u001b[0m\u001b[37m\u001b[0m \u001b[1m2s\u001b[0m 10ms/step - loss: 0.2089 - mae: 0.2975 - val_loss: 0.2246 - val_mae: 0.3038\n",
      "Epoch 18/120\n",
      "\u001b[1m203/207\u001b[0m \u001b[32m━━━━━━━━━━━━━━━━━━━\u001b[0m\u001b[37m━\u001b[0m \u001b[1m0s\u001b[0m 3ms/step - loss: 0.1998 - mae: 0.2920Epoch 18: Train R² = 0.8311, Validation R² = 0.7778\n",
      "\u001b[1m207/207\u001b[0m \u001b[32m━━━━━━━━━━━━━━━━━━━━\u001b[0m\u001b[37m\u001b[0m \u001b[1m2s\u001b[0m 11ms/step - loss: 0.1999 - mae: 0.2921 - val_loss: 0.2257 - val_mae: 0.3054\n",
      "Epoch 19/120\n",
      "\u001b[1m205/207\u001b[0m \u001b[32m━━━━━━━━━━━━━━━━━━━\u001b[0m\u001b[37m━\u001b[0m \u001b[1m0s\u001b[0m 2ms/step - loss: 0.2007 - mae: 0.2910Epoch 19: Train R² = 0.8319, Validation R² = 0.7725\n",
      "\u001b[1m207/207\u001b[0m \u001b[32m━━━━━━━━━━━━━━━━━━━━\u001b[0m\u001b[37m\u001b[0m \u001b[1m1s\u001b[0m 7ms/step - loss: 0.2006 - mae: 0.2910 - val_loss: 0.2311 - val_mae: 0.3087\n",
      "Epoch 20/120\n",
      "\u001b[1m179/207\u001b[0m \u001b[32m━━━━━━━━━━━━━━━━━\u001b[0m\u001b[37m━━━\u001b[0m \u001b[1m0s\u001b[0m 2ms/step - loss: 0.1919 - mae: 0.2892Epoch 20: Train R² = 0.8339, Validation R² = 0.7826\n",
      "\u001b[1m207/207\u001b[0m \u001b[32m━━━━━━━━━━━━━━━━━━━━\u001b[0m\u001b[37m\u001b[0m \u001b[1m2s\u001b[0m 10ms/step - loss: 0.1918 - mae: 0.2889 - val_loss: 0.2208 - val_mae: 0.3042\n",
      "Epoch 21/120\n",
      "\u001b[1m202/207\u001b[0m \u001b[32m━━━━━━━━━━━━━━━━━━━\u001b[0m\u001b[37m━\u001b[0m \u001b[1m0s\u001b[0m 2ms/step - loss: 0.1840 - mae: 0.2754Epoch 21: Train R² = 0.8368, Validation R² = 0.7815\n",
      "\u001b[1m207/207\u001b[0m \u001b[32m━━━━━━━━━━━━━━━━━━━━\u001b[0m\u001b[37m\u001b[0m \u001b[1m1s\u001b[0m 7ms/step - loss: 0.1841 - mae: 0.2756 - val_loss: 0.2219 - val_mae: 0.3043\n",
      "Epoch 22/120\n",
      "\u001b[1m202/207\u001b[0m \u001b[32m━━━━━━━━━━━━━━━━━━━\u001b[0m\u001b[37m━\u001b[0m \u001b[1m0s\u001b[0m 2ms/step - loss: 0.1839 - mae: 0.2826Epoch 22: Train R² = 0.8361, Validation R² = 0.7711\n",
      "\u001b[1m207/207\u001b[0m \u001b[32m━━━━━━━━━━━━━━━━━━━━\u001b[0m\u001b[37m\u001b[0m \u001b[1m2s\u001b[0m 10ms/step - loss: 0.1839 - mae: 0.2826 - val_loss: 0.2324 - val_mae: 0.3078\n",
      "Epoch 23/120\n",
      "\u001b[1m195/207\u001b[0m \u001b[32m━━━━━━━━━━━━━━━━━━\u001b[0m\u001b[37m━━\u001b[0m \u001b[1m0s\u001b[0m 2ms/step - loss: 0.1829 - mae: 0.2774Epoch 23: Train R² = 0.8385, Validation R² = 0.7763\n",
      "\u001b[1m207/207\u001b[0m \u001b[32m━━━━━━━━━━━━━━━━━━━━\u001b[0m\u001b[37m\u001b[0m \u001b[1m2s\u001b[0m 7ms/step - loss: 0.1830 - mae: 0.2776 - val_loss: 0.2272 - val_mae: 0.3086\n",
      "Epoch 24/120\n",
      "\u001b[1m195/207\u001b[0m \u001b[32m━━━━━━━━━━━━━━━━━━\u001b[0m\u001b[37m━━\u001b[0m \u001b[1m0s\u001b[0m 2ms/step - loss: 0.1895 - mae: 0.2852Epoch 24: Train R² = 0.8310, Validation R² = 0.7735\n",
      "\u001b[1m207/207\u001b[0m \u001b[32m━━━━━━━━━━━━━━━━━━━━\u001b[0m\u001b[37m\u001b[0m \u001b[1m3s\u001b[0m 11ms/step - loss: 0.1890 - mae: 0.2850 - val_loss: 0.2300 - val_mae: 0.3108\n",
      "Epoch 25/120\n",
      "\u001b[1m197/207\u001b[0m \u001b[32m━━━━━━━━━━━━━━━━━━━\u001b[0m\u001b[37m━\u001b[0m \u001b[1m0s\u001b[0m 2ms/step - loss: 0.1663 - mae: 0.2752Epoch 25: Train R² = 0.8469, Validation R² = 0.7849\n",
      "\u001b[1m207/207\u001b[0m \u001b[32m━━━━━━━━━━━━━━━━━━━━\u001b[0m\u001b[37m\u001b[0m \u001b[1m1s\u001b[0m 7ms/step - loss: 0.1671 - mae: 0.2755 - val_loss: 0.2185 - val_mae: 0.3008\n",
      "Epoch 26/120\n",
      "\u001b[1m181/207\u001b[0m \u001b[32m━━━━━━━━━━━━━━━━━\u001b[0m\u001b[37m━━━\u001b[0m \u001b[1m0s\u001b[0m 2ms/step - loss: 0.1876 - mae: 0.2787Epoch 26: Train R² = 0.8439, Validation R² = 0.7735\n",
      "\u001b[1m207/207\u001b[0m \u001b[32m━━━━━━━━━━━━━━━━━━━━\u001b[0m\u001b[37m\u001b[0m \u001b[1m2s\u001b[0m 10ms/step - loss: 0.1875 - mae: 0.2788 - val_loss: 0.2300 - val_mae: 0.3018\n",
      "Epoch 27/120\n",
      "\u001b[1m197/207\u001b[0m \u001b[32m━━━━━━━━━━━━━━━━━━━\u001b[0m\u001b[37m━\u001b[0m \u001b[1m0s\u001b[0m 2ms/step - loss: 0.1694 - mae: 0.2686Epoch 27: Train R² = 0.8453, Validation R² = 0.7742\n",
      "\u001b[1m207/207\u001b[0m \u001b[32m━━━━━━━━━━━━━━━━━━━━\u001b[0m\u001b[37m\u001b[0m \u001b[1m2s\u001b[0m 8ms/step - loss: 0.1700 - mae: 0.2690 - val_loss: 0.2293 - val_mae: 0.3029\n",
      "Epoch 28/120\n",
      "\u001b[1m192/207\u001b[0m \u001b[32m━━━━━━━━━━━━━━━━━━\u001b[0m\u001b[37m━━\u001b[0m \u001b[1m0s\u001b[0m 2ms/step - loss: 0.1691 - mae: 0.2722Epoch 28: Train R² = 0.8513, Validation R² = 0.7842\n",
      "\u001b[1m207/207\u001b[0m \u001b[32m━━━━━━━━━━━━━━━━━━━━\u001b[0m\u001b[37m\u001b[0m \u001b[1m2s\u001b[0m 10ms/step - loss: 0.1695 - mae: 0.2724 - val_loss: 0.2191 - val_mae: 0.3003\n",
      "Epoch 29/120\n",
      "\u001b[1m199/207\u001b[0m \u001b[32m━━━━━━━━━━━━━━━━━━━\u001b[0m\u001b[37m━\u001b[0m \u001b[1m0s\u001b[0m 2ms/step - loss: 0.1804 - mae: 0.2732Epoch 29: Train R² = 0.8378, Validation R² = 0.7719\n",
      "\u001b[1m207/207\u001b[0m \u001b[32m━━━━━━━━━━━━━━━━━━━━\u001b[0m\u001b[37m\u001b[0m \u001b[1m1s\u001b[0m 7ms/step - loss: 0.1801 - mae: 0.2732 - val_loss: 0.2317 - val_mae: 0.3025\n",
      "Epoch 30/120\n",
      "\u001b[1m204/207\u001b[0m \u001b[32m━━━━━━━━━━━━━━━━━━━\u001b[0m\u001b[37m━\u001b[0m \u001b[1m0s\u001b[0m 2ms/step - loss: 0.1899 - mae: 0.2743Epoch 30: Train R² = 0.8537, Validation R² = 0.7830\n",
      "\u001b[1m207/207\u001b[0m \u001b[32m━━━━━━━━━━━━━━━━━━━━\u001b[0m\u001b[37m\u001b[0m \u001b[1m2s\u001b[0m 11ms/step - loss: 0.1897 - mae: 0.2743 - val_loss: 0.2203 - val_mae: 0.2990\n",
      "Epoch 31/120\n",
      "\u001b[1m192/207\u001b[0m \u001b[32m━━━━━━━━━━━━━━━━━━\u001b[0m\u001b[37m━━\u001b[0m \u001b[1m0s\u001b[0m 3ms/step - loss: 0.1648 - mae: 0.2661Epoch 31: Train R² = 0.8511, Validation R² = 0.7797\n",
      "\u001b[1m207/207\u001b[0m \u001b[32m━━━━━━━━━━━━━━━━━━━━\u001b[0m\u001b[37m\u001b[0m \u001b[1m2s\u001b[0m 12ms/step - loss: 0.1652 - mae: 0.2662 - val_loss: 0.2237 - val_mae: 0.3037\n",
      "Epoch 32/120\n",
      "\u001b[1m196/207\u001b[0m \u001b[32m━━━━━━━━━━━━━━━━━━\u001b[0m\u001b[37m━━\u001b[0m \u001b[1m0s\u001b[0m 2ms/step - loss: 0.1640 - mae: 0.2685Epoch 32: Train R² = 0.8539, Validation R² = 0.7874\n",
      "\u001b[1m207/207\u001b[0m \u001b[32m━━━━━━━━━━━━━━━━━━━━\u001b[0m\u001b[37m\u001b[0m \u001b[1m1s\u001b[0m 7ms/step - loss: 0.1644 - mae: 0.2687 - val_loss: 0.2159 - val_mae: 0.2969\n",
      "Epoch 33/120\n",
      "\u001b[1m205/207\u001b[0m \u001b[32m━━━━━━━━━━━━━━━━━━━\u001b[0m\u001b[37m━\u001b[0m \u001b[1m0s\u001b[0m 2ms/step - loss: 0.1651 - mae: 0.2646Epoch 33: Train R² = 0.8564, Validation R² = 0.7763\n",
      "\u001b[1m207/207\u001b[0m \u001b[32m━━━━━━━━━━━━━━━━━━━━\u001b[0m\u001b[37m\u001b[0m \u001b[1m2s\u001b[0m 8ms/step - loss: 0.1652 - mae: 0.2647 - val_loss: 0.2272 - val_mae: 0.2997\n",
      "Epoch 34/120\n",
      "\u001b[1m200/207\u001b[0m \u001b[32m━━━━━━━━━━━━━━━━━━━\u001b[0m\u001b[37m━\u001b[0m \u001b[1m0s\u001b[0m 2ms/step - loss: 0.1532 - mae: 0.2582Epoch 34: Train R² = 0.8563, Validation R² = 0.7777\n",
      "\u001b[1m207/207\u001b[0m \u001b[32m━━━━━━━━━━━━━━━━━━━━\u001b[0m\u001b[37m\u001b[0m \u001b[1m2s\u001b[0m 10ms/step - loss: 0.1539 - mae: 0.2585 - val_loss: 0.2258 - val_mae: 0.3024\n",
      "Epoch 35/120\n",
      "\u001b[1m189/207\u001b[0m \u001b[32m━━━━━━━━━━━━━━━━━━\u001b[0m\u001b[37m━━\u001b[0m \u001b[1m0s\u001b[0m 2ms/step - loss: 0.1525 - mae: 0.2605Epoch 35: Train R² = 0.8514, Validation R² = 0.7685\n",
      "\u001b[1m207/207\u001b[0m \u001b[32m━━━━━━━━━━━━━━━━━━━━\u001b[0m\u001b[37m\u001b[0m \u001b[1m2s\u001b[0m 10ms/step - loss: 0.1539 - mae: 0.2610 - val_loss: 0.2351 - val_mae: 0.3168\n",
      "Epoch 36/120\n",
      "\u001b[1m198/207\u001b[0m \u001b[32m━━━━━━━━━━━━━━━━━━━\u001b[0m\u001b[37m━\u001b[0m \u001b[1m0s\u001b[0m 2ms/step - loss: 0.1673 - mae: 0.2682Epoch 36: Train R² = 0.8580, Validation R² = 0.7790\n",
      "\u001b[1m207/207\u001b[0m \u001b[32m━━━━━━━━━━━━━━━━━━━━\u001b[0m\u001b[37m\u001b[0m \u001b[1m2s\u001b[0m 11ms/step - loss: 0.1674 - mae: 0.2682 - val_loss: 0.2245 - val_mae: 0.3017\n",
      "Epoch 37/120\n",
      "\u001b[1m188/207\u001b[0m \u001b[32m━━━━━━━━━━━━━━━━━━\u001b[0m\u001b[37m━━\u001b[0m \u001b[1m0s\u001b[0m 3ms/step - loss: 0.1790 - mae: 0.2710Epoch 37: Train R² = 0.8626, Validation R² = 0.7826\n",
      "\u001b[1m207/207\u001b[0m \u001b[32m━━━━━━━━━━━━━━━━━━━━\u001b[0m\u001b[37m\u001b[0m \u001b[1m2s\u001b[0m 9ms/step - loss: 0.1778 - mae: 0.2706 - val_loss: 0.2208 - val_mae: 0.2986\n",
      "Epoch 38/120\n",
      "\u001b[1m179/207\u001b[0m \u001b[32m━━━━━━━━━━━━━━━━━\u001b[0m\u001b[37m━━━\u001b[0m \u001b[1m0s\u001b[0m 2ms/step - loss: 0.1519 - mae: 0.2554Epoch 38: Train R² = 0.8521, Validation R² = 0.7657\n",
      "\u001b[1m207/207\u001b[0m \u001b[32m━━━━━━━━━━━━━━━━━━━━\u001b[0m\u001b[37m\u001b[0m \u001b[1m2s\u001b[0m 7ms/step - loss: 0.1537 - mae: 0.2566 - val_loss: 0.2379 - val_mae: 0.3060\n",
      "Epoch 39/120\n",
      "\u001b[1m191/207\u001b[0m \u001b[32m━━━━━━━━━━━━━━━━━━\u001b[0m\u001b[37m━━\u001b[0m \u001b[1m0s\u001b[0m 2ms/step - loss: 0.1589 - mae: 0.2610Epoch 39: Train R² = 0.8596, Validation R² = 0.7816\n",
      "\u001b[1m207/207\u001b[0m \u001b[32m━━━━━━━━━━━━━━━━━━━━\u001b[0m\u001b[37m\u001b[0m \u001b[1m1s\u001b[0m 7ms/step - loss: 0.1595 - mae: 0.2613 - val_loss: 0.2218 - val_mae: 0.2982\n",
      "Epoch 40/120\n",
      "\u001b[1m193/207\u001b[0m \u001b[32m━━━━━━━━━━━━━━━━━━\u001b[0m\u001b[37m━━\u001b[0m \u001b[1m0s\u001b[0m 2ms/step - loss: 0.1535 - mae: 0.2561Epoch 40: Train R² = 0.8552, Validation R² = 0.7726\n",
      "\u001b[1m207/207\u001b[0m \u001b[32m━━━━━━━━━━━━━━━━━━━━\u001b[0m\u001b[37m\u001b[0m \u001b[1m3s\u001b[0m 10ms/step - loss: 0.1541 - mae: 0.2564 - val_loss: 0.2309 - val_mae: 0.2991\n",
      "Epoch 41/120\n",
      "\u001b[1m177/207\u001b[0m \u001b[32m━━━━━━━━━━━━━━━━━\u001b[0m\u001b[37m━━━\u001b[0m \u001b[1m0s\u001b[0m 2ms/step - loss: 0.1553 - mae: 0.2591Epoch 41: Train R² = 0.8647, Validation R² = 0.7798\n",
      "\u001b[1m207/207\u001b[0m \u001b[32m━━━━━━━━━━━━━━━━━━━━\u001b[0m\u001b[37m\u001b[0m \u001b[1m3s\u001b[0m 11ms/step - loss: 0.1563 - mae: 0.2594 - val_loss: 0.2236 - val_mae: 0.3032\n",
      "Epoch 42/120\n",
      "\u001b[1m200/207\u001b[0m \u001b[32m━━━━━━━━━━━━━━━━━━━\u001b[0m\u001b[37m━\u001b[0m \u001b[1m0s\u001b[0m 3ms/step - loss: 0.1534 - mae: 0.2569Epoch 42: Train R² = 0.8662, Validation R² = 0.7753\n",
      "\u001b[1m207/207\u001b[0m \u001b[32m━━━━━━━━━━━━━━━━━━━━\u001b[0m\u001b[37m\u001b[0m \u001b[1m2s\u001b[0m 11ms/step - loss: 0.1537 - mae: 0.2570 - val_loss: 0.2282 - val_mae: 0.3000\n",
      "Epoch 43/120\n",
      "\u001b[1m199/207\u001b[0m \u001b[32m━━━━━━━━━━━━━━━━━━━\u001b[0m\u001b[37m━\u001b[0m \u001b[1m0s\u001b[0m 2ms/step - loss: 0.1718 - mae: 0.2628Epoch 43: Train R² = 0.8642, Validation R² = 0.7740\n",
      "\u001b[1m207/207\u001b[0m \u001b[32m━━━━━━━━━━━━━━━━━━━━\u001b[0m\u001b[37m\u001b[0m \u001b[1m2s\u001b[0m 10ms/step - loss: 0.1713 - mae: 0.2626 - val_loss: 0.2295 - val_mae: 0.3011\n",
      "Epoch 44/120\n",
      "\u001b[1m193/207\u001b[0m \u001b[32m━━━━━━━━━━━━━━━━━━\u001b[0m\u001b[37m━━\u001b[0m \u001b[1m0s\u001b[0m 2ms/step - loss: 0.1496 - mae: 0.2543Epoch 44: Train R² = 0.8669, Validation R² = 0.7706\n",
      "\u001b[1m207/207\u001b[0m \u001b[32m━━━━━━━━━━━━━━━━━━━━\u001b[0m\u001b[37m\u001b[0m \u001b[1m2s\u001b[0m 7ms/step - loss: 0.1502 - mae: 0.2547 - val_loss: 0.2329 - val_mae: 0.3011\n",
      "Epoch 45/120\n",
      "\u001b[1m197/207\u001b[0m \u001b[32m━━━━━━━━━━━━━━━━━━━\u001b[0m\u001b[37m━\u001b[0m \u001b[1m0s\u001b[0m 2ms/step - loss: 0.1512 - mae: 0.2547Epoch 45: Train R² = 0.8658, Validation R² = 0.7794\n",
      "\u001b[1m207/207\u001b[0m \u001b[32m━━━━━━━━━━━━━━━━━━━━\u001b[0m\u001b[37m\u001b[0m \u001b[1m3s\u001b[0m 10ms/step - loss: 0.1516 - mae: 0.2549 - val_loss: 0.2240 - val_mae: 0.2992\n",
      "Epoch 46/120\n",
      "\u001b[1m207/207\u001b[0m \u001b[32m━━━━━━━━━━━━━━━━━━━━\u001b[0m\u001b[37m\u001b[0m \u001b[1m0s\u001b[0m 2ms/step - loss: 0.1637 - mae: 0.2605Epoch 46: Train R² = 0.8663, Validation R² = 0.7694\n",
      "\u001b[1m207/207\u001b[0m \u001b[32m━━━━━━━━━━━━━━━━━━━━\u001b[0m\u001b[37m\u001b[0m \u001b[1m1s\u001b[0m 7ms/step - loss: 0.1637 - mae: 0.2605 - val_loss: 0.2342 - val_mae: 0.3022\n",
      "Epoch 47/120\n",
      "\u001b[1m196/207\u001b[0m \u001b[32m━━━━━━━━━━━━━━━━━━\u001b[0m\u001b[37m━━\u001b[0m \u001b[1m0s\u001b[0m 3ms/step - loss: 0.1522 - mae: 0.2511Epoch 47: Train R² = 0.8670, Validation R² = 0.7740\n",
      "\u001b[1m207/207\u001b[0m \u001b[32m━━━━━━━━━━━━━━━━━━━━\u001b[0m\u001b[37m\u001b[0m \u001b[1m3s\u001b[0m 10ms/step - loss: 0.1523 - mae: 0.2513 - val_loss: 0.2295 - val_mae: 0.2996\n",
      "Epoch 48/120\n",
      "\u001b[1m195/207\u001b[0m \u001b[32m━━━━━━━━━━━━━━━━━━\u001b[0m\u001b[37m━━\u001b[0m \u001b[1m0s\u001b[0m 2ms/step - loss: 0.1502 - mae: 0.2516Epoch 48: Train R² = 0.8693, Validation R² = 0.7643\n",
      "\u001b[1m207/207\u001b[0m \u001b[32m━━━━━━━━━━━━━━━━━━━━\u001b[0m\u001b[37m\u001b[0m \u001b[1m2s\u001b[0m 7ms/step - loss: 0.1504 - mae: 0.2519 - val_loss: 0.2393 - val_mae: 0.3049\n",
      "Epoch 49/120\n",
      "\u001b[1m205/207\u001b[0m \u001b[32m━━━━━━━━━━━━━━━━━━━\u001b[0m\u001b[37m━\u001b[0m \u001b[1m0s\u001b[0m 2ms/step - loss: 0.1507 - mae: 0.2500Epoch 49: Train R² = 0.8717, Validation R² = 0.7664\n",
      "\u001b[1m207/207\u001b[0m \u001b[32m━━━━━━━━━━━━━━━━━━━━\u001b[0m\u001b[37m\u001b[0m \u001b[1m3s\u001b[0m 10ms/step - loss: 0.1507 - mae: 0.2501 - val_loss: 0.2372 - val_mae: 0.3010\n",
      "Epoch 50/120\n",
      "\u001b[1m200/207\u001b[0m \u001b[32m━━━━━━━━━━━━━━━━━━━\u001b[0m\u001b[37m━\u001b[0m \u001b[1m0s\u001b[0m 2ms/step - loss: 0.1543 - mae: 0.2528Epoch 50: Train R² = 0.8748, Validation R² = 0.7757\n",
      "\u001b[1m207/207\u001b[0m \u001b[32m━━━━━━━━━━━━━━━━━━━━\u001b[0m\u001b[37m\u001b[0m \u001b[1m2s\u001b[0m 10ms/step - loss: 0.1541 - mae: 0.2528 - val_loss: 0.2278 - val_mae: 0.2977\n",
      "Epoch 51/120\n",
      "\u001b[1m186/207\u001b[0m \u001b[32m━━━━━━━━━━━━━━━━━\u001b[0m\u001b[37m━━━\u001b[0m \u001b[1m0s\u001b[0m 2ms/step - loss: 0.1537 - mae: 0.2524Epoch 51: Train R² = 0.8730, Validation R² = 0.7749\n",
      "\u001b[1m207/207\u001b[0m \u001b[32m━━━━━━━━━━━━━━━━━━━━\u001b[0m\u001b[37m\u001b[0m \u001b[1m2s\u001b[0m 7ms/step - loss: 0.1532 - mae: 0.2522 - val_loss: 0.2286 - val_mae: 0.3007\n",
      "Epoch 52/120\n",
      "\u001b[1m206/207\u001b[0m \u001b[32m━━━━━━━━━━━━━━━━━━━\u001b[0m\u001b[37m━\u001b[0m \u001b[1m0s\u001b[0m 2ms/step - loss: 0.1534 - mae: 0.2527Epoch 52: Train R² = 0.8767, Validation R² = 0.7707\n",
      "\u001b[1m207/207\u001b[0m \u001b[32m━━━━━━━━━━━━━━━━━━━━\u001b[0m\u001b[37m\u001b[0m \u001b[1m2s\u001b[0m 8ms/step - loss: 0.1534 - mae: 0.2527 - val_loss: 0.2329 - val_mae: 0.3022\n",
      "Epoch 53/120\n",
      "\u001b[1m203/207\u001b[0m \u001b[32m━━━━━━━━━━━━━━━━━━━\u001b[0m\u001b[37m━\u001b[0m \u001b[1m0s\u001b[0m 3ms/step - loss: 0.1448 - mae: 0.2446Epoch 53: Train R² = 0.8743, Validation R² = 0.7722\n",
      "\u001b[1m207/207\u001b[0m \u001b[32m━━━━━━━━━━━━━━━━━━━━\u001b[0m\u001b[37m\u001b[0m \u001b[1m3s\u001b[0m 9ms/step - loss: 0.1449 - mae: 0.2447 - val_loss: 0.2314 - val_mae: 0.3012\n",
      "Epoch 54/120\n",
      "\u001b[1m189/207\u001b[0m \u001b[32m━━━━━━━━━━━━━━━━━━\u001b[0m\u001b[37m━━\u001b[0m \u001b[1m0s\u001b[0m 2ms/step - loss: 0.1425 - mae: 0.2464Epoch 54: Train R² = 0.8776, Validation R² = 0.7689\n",
      "\u001b[1m207/207\u001b[0m \u001b[32m━━━━━━━━━━━━━━━━━━━━\u001b[0m\u001b[37m\u001b[0m \u001b[1m1s\u001b[0m 7ms/step - loss: 0.1427 - mae: 0.2466 - val_loss: 0.2347 - val_mae: 0.3030\n",
      "Epoch 55/120\n",
      "\u001b[1m179/207\u001b[0m \u001b[32m━━━━━━━━━━━━━━━━━\u001b[0m\u001b[37m━━━\u001b[0m \u001b[1m0s\u001b[0m 2ms/step - loss: 0.1436 - mae: 0.2476Epoch 55: Train R² = 0.8780, Validation R² = 0.7665\n",
      "\u001b[1m207/207\u001b[0m \u001b[32m━━━━━━━━━━━━━━━━━━━━\u001b[0m\u001b[37m\u001b[0m \u001b[1m3s\u001b[0m 10ms/step - loss: 0.1439 - mae: 0.2478 - val_loss: 0.2371 - val_mae: 0.3016\n",
      "Epoch 56/120\n",
      "\u001b[1m201/207\u001b[0m \u001b[32m━━━━━━━━━━━━━━━━━━━\u001b[0m\u001b[37m━\u001b[0m \u001b[1m0s\u001b[0m 2ms/step - loss: 0.1354 - mae: 0.2407Epoch 56: Train R² = 0.8783, Validation R² = 0.7626\n",
      "\u001b[1m207/207\u001b[0m \u001b[32m━━━━━━━━━━━━━━━━━━━━\u001b[0m\u001b[37m\u001b[0m \u001b[1m1s\u001b[0m 7ms/step - loss: 0.1357 - mae: 0.2408 - val_loss: 0.2410 - val_mae: 0.3050\n",
      "Epoch 57/120\n",
      "\u001b[1m204/207\u001b[0m \u001b[32m━━━━━━━━━━━━━━━━━━━\u001b[0m\u001b[37m━\u001b[0m \u001b[1m0s\u001b[0m 2ms/step - loss: 0.1455 - mae: 0.2494Epoch 57: Train R² = 0.8740, Validation R² = 0.7706\n",
      "\u001b[1m207/207\u001b[0m \u001b[32m━━━━━━━━━━━━━━━━━━━━\u001b[0m\u001b[37m\u001b[0m \u001b[1m1s\u001b[0m 7ms/step - loss: 0.1456 - mae: 0.2494 - val_loss: 0.2330 - val_mae: 0.3027\n",
      "Epoch 58/120\n",
      "\u001b[1m199/207\u001b[0m \u001b[32m━━━━━━━━━━━━━━━━━━━\u001b[0m\u001b[37m━\u001b[0m \u001b[1m0s\u001b[0m 2ms/step - loss: 0.1310 - mae: 0.2414Epoch 58: Train R² = 0.8776, Validation R² = 0.7694\n",
      "\u001b[1m207/207\u001b[0m \u001b[32m━━━━━━━━━━━━━━━━━━━━\u001b[0m\u001b[37m\u001b[0m \u001b[1m3s\u001b[0m 10ms/step - loss: 0.1315 - mae: 0.2416 - val_loss: 0.2342 - val_mae: 0.3043\n",
      "Epoch 59/120\n",
      "\u001b[1m202/207\u001b[0m \u001b[32m━━━━━━━━━━━━━━━━━━━\u001b[0m\u001b[37m━\u001b[0m \u001b[1m0s\u001b[0m 3ms/step - loss: 0.1433 - mae: 0.2453Epoch 59: Train R² = 0.8796, Validation R² = 0.7650\n",
      "\u001b[1m207/207\u001b[0m \u001b[32m━━━━━━━━━━━━━━━━━━━━\u001b[0m\u001b[37m\u001b[0m \u001b[1m3s\u001b[0m 12ms/step - loss: 0.1433 - mae: 0.2453 - val_loss: 0.2386 - val_mae: 0.3008\n",
      "Epoch 60/120\n",
      "\u001b[1m202/207\u001b[0m \u001b[32m━━━━━━━━━━━━━━━━━━━\u001b[0m\u001b[37m━\u001b[0m \u001b[1m0s\u001b[0m 2ms/step - loss: 0.1398 - mae: 0.2408Epoch 60: Train R² = 0.8798, Validation R² = 0.7586\n",
      "\u001b[1m207/207\u001b[0m \u001b[32m━━━━━━━━━━━━━━━━━━━━\u001b[0m\u001b[37m\u001b[0m \u001b[1m2s\u001b[0m 11ms/step - loss: 0.1399 - mae: 0.2410 - val_loss: 0.2452 - val_mae: 0.3028\n",
      "Epoch 61/120\n",
      "\u001b[1m179/207\u001b[0m \u001b[32m━━━━━━━━━━━━━━━━━\u001b[0m\u001b[37m━━━\u001b[0m \u001b[1m0s\u001b[0m 2ms/step - loss: 0.1313 - mae: 0.2387Epoch 61: Train R² = 0.8825, Validation R² = 0.7655\n",
      "\u001b[1m207/207\u001b[0m \u001b[32m━━━━━━━━━━━━━━━━━━━━\u001b[0m\u001b[37m\u001b[0m \u001b[1m1s\u001b[0m 7ms/step - loss: 0.1324 - mae: 0.2393 - val_loss: 0.2382 - val_mae: 0.3001\n",
      "Epoch 62/120\n",
      "\u001b[1m192/207\u001b[0m \u001b[32m━━━━━━━━━━━━━━━━━━\u001b[0m\u001b[37m━━\u001b[0m \u001b[1m0s\u001b[0m 2ms/step - loss: 0.1267 - mae: 0.2340Epoch 62: Train R² = 0.8809, Validation R² = 0.7683\n",
      "\u001b[1m207/207\u001b[0m \u001b[32m━━━━━━━━━━━━━━━━━━━━\u001b[0m\u001b[37m\u001b[0m \u001b[1m3s\u001b[0m 7ms/step - loss: 0.1276 - mae: 0.2346 - val_loss: 0.2353 - val_mae: 0.3051\n",
      "Epoch 63/120\n",
      "\u001b[1m197/207\u001b[0m \u001b[32m━━━━━━━━━━━━━━━━━━━\u001b[0m\u001b[37m━\u001b[0m \u001b[1m0s\u001b[0m 2ms/step - loss: 0.1316 - mae: 0.2375Epoch 63: Train R² = 0.8829, Validation R² = 0.7530\n",
      "\u001b[1m207/207\u001b[0m \u001b[32m━━━━━━━━━━━━━━━━━━━━\u001b[0m\u001b[37m\u001b[0m \u001b[1m3s\u001b[0m 10ms/step - loss: 0.1319 - mae: 0.2377 - val_loss: 0.2508 - val_mae: 0.3046\n",
      "Epoch 64/120\n",
      "\u001b[1m204/207\u001b[0m \u001b[32m━━━━━━━━━━━━━━━━━━━\u001b[0m\u001b[37m━\u001b[0m \u001b[1m0s\u001b[0m 3ms/step - loss: 0.1281 - mae: 0.2384Epoch 64: Train R² = 0.8804, Validation R² = 0.7594\n",
      "\u001b[1m207/207\u001b[0m \u001b[32m━━━━━━━━━━━━━━━━━━━━\u001b[0m\u001b[37m\u001b[0m \u001b[1m3s\u001b[0m 12ms/step - loss: 0.1283 - mae: 0.2384 - val_loss: 0.2443 - val_mae: 0.3008\n",
      "Epoch 65/120\n",
      "\u001b[1m200/207\u001b[0m \u001b[32m━━━━━━━━━━━━━━━━━━━\u001b[0m\u001b[37m━\u001b[0m \u001b[1m0s\u001b[0m 2ms/step - loss: 0.1337 - mae: 0.2382Epoch 65: Train R² = 0.8820, Validation R² = 0.7578\n",
      "\u001b[1m207/207\u001b[0m \u001b[32m━━━━━━━━━━━━━━━━━━━━\u001b[0m\u001b[37m\u001b[0m \u001b[1m2s\u001b[0m 7ms/step - loss: 0.1339 - mae: 0.2384 - val_loss: 0.2459 - val_mae: 0.3043\n",
      "Epoch 66/120\n",
      "\u001b[1m199/207\u001b[0m \u001b[32m━━━━━━━━━━━━━━━━━━━\u001b[0m\u001b[37m━\u001b[0m \u001b[1m0s\u001b[0m 2ms/step - loss: 0.1285 - mae: 0.2376Epoch 66: Train R² = 0.8820, Validation R² = 0.7569\n",
      "\u001b[1m207/207\u001b[0m \u001b[32m━━━━━━━━━━━━━━━━━━━━\u001b[0m\u001b[37m\u001b[0m \u001b[1m2s\u001b[0m 7ms/step - loss: 0.1288 - mae: 0.2378 - val_loss: 0.2468 - val_mae: 0.3038\n",
      "Epoch 67/120\n",
      "\u001b[1m183/207\u001b[0m \u001b[32m━━━━━━━━━━━━━━━━━\u001b[0m\u001b[37m━━━\u001b[0m \u001b[1m0s\u001b[0m 2ms/step - loss: 0.1371 - mae: 0.2400Epoch 67: Train R² = 0.8857, Validation R² = 0.7609\n",
      "\u001b[1m207/207\u001b[0m \u001b[32m━━━━━━━━━━━━━━━━━━━━\u001b[0m\u001b[37m\u001b[0m \u001b[1m2s\u001b[0m 7ms/step - loss: 0.1373 - mae: 0.2403 - val_loss: 0.2428 - val_mae: 0.3046\n",
      "Epoch 68/120\n",
      "\u001b[1m192/207\u001b[0m \u001b[32m━━━━━━━━━━━━━━━━━━\u001b[0m\u001b[37m━━\u001b[0m \u001b[1m0s\u001b[0m 2ms/step - loss: 0.1378 - mae: 0.2390Epoch 68: Train R² = 0.8861, Validation R² = 0.7643\n",
      "\u001b[1m207/207\u001b[0m \u001b[32m━━━━━━━━━━━━━━━━━━━━\u001b[0m\u001b[37m\u001b[0m \u001b[1m2s\u001b[0m 7ms/step - loss: 0.1381 - mae: 0.2393 - val_loss: 0.2394 - val_mae: 0.3015\n",
      "Epoch 69/120\n",
      "\u001b[1m205/207\u001b[0m \u001b[32m━━━━━━━━━━━━━━━━━━━\u001b[0m\u001b[37m━\u001b[0m \u001b[1m0s\u001b[0m 2ms/step - loss: 0.1287 - mae: 0.2341Epoch 69: Train R² = 0.8853, Validation R² = 0.7663\n",
      "\u001b[1m207/207\u001b[0m \u001b[32m━━━━━━━━━━━━━━━━━━━━\u001b[0m\u001b[37m\u001b[0m \u001b[1m3s\u001b[0m 9ms/step - loss: 0.1288 - mae: 0.2342 - val_loss: 0.2373 - val_mae: 0.3033\n",
      "Epoch 70/120\n",
      "\u001b[1m191/207\u001b[0m \u001b[32m━━━━━━━━━━━━━━━━━━\u001b[0m\u001b[37m━━\u001b[0m \u001b[1m0s\u001b[0m 3ms/step - loss: 0.1352 - mae: 0.2380Epoch 70: Train R² = 0.8872, Validation R² = 0.7618\n",
      "\u001b[1m207/207\u001b[0m \u001b[32m━━━━━━━━━━━━━━━━━━━━\u001b[0m\u001b[37m\u001b[0m \u001b[1m3s\u001b[0m 11ms/step - loss: 0.1354 - mae: 0.2382 - val_loss: 0.2419 - val_mae: 0.3006\n",
      "Epoch 71/120\n",
      "\u001b[1m197/207\u001b[0m \u001b[32m━━━━━━━━━━━━━━━━━━━\u001b[0m\u001b[37m━\u001b[0m \u001b[1m0s\u001b[0m 2ms/step - loss: 0.1335 - mae: 0.2376Epoch 71: Train R² = 0.8829, Validation R² = 0.7633\n",
      "\u001b[1m207/207\u001b[0m \u001b[32m━━━━━━━━━━━━━━━━━━━━\u001b[0m\u001b[37m\u001b[0m \u001b[1m2s\u001b[0m 7ms/step - loss: 0.1338 - mae: 0.2378 - val_loss: 0.2404 - val_mae: 0.3047\n",
      "Epoch 72/120\n",
      "\u001b[1m202/207\u001b[0m \u001b[32m━━━━━━━━━━━━━━━━━━━\u001b[0m\u001b[37m━\u001b[0m \u001b[1m0s\u001b[0m 2ms/step - loss: 0.1304 - mae: 0.2358Epoch 72: Train R² = 0.8856, Validation R² = 0.7673\n",
      "\u001b[1m207/207\u001b[0m \u001b[32m━━━━━━━━━━━━━━━━━━━━\u001b[0m\u001b[37m\u001b[0m \u001b[1m3s\u001b[0m 11ms/step - loss: 0.1305 - mae: 0.2359 - val_loss: 0.2363 - val_mae: 0.3076\n",
      "Epoch 73/120\n",
      "\u001b[1m199/207\u001b[0m \u001b[32m━━━━━━━━━━━━━━━━━━━\u001b[0m\u001b[37m━\u001b[0m \u001b[1m0s\u001b[0m 2ms/step - loss: 0.1286 - mae: 0.2321Epoch 73: Train R² = 0.8879, Validation R² = 0.7620\n",
      "\u001b[1m207/207\u001b[0m \u001b[32m━━━━━━━━━━━━━━━━━━━━\u001b[0m\u001b[37m\u001b[0m \u001b[1m2s\u001b[0m 7ms/step - loss: 0.1289 - mae: 0.2324 - val_loss: 0.2417 - val_mae: 0.3025\n",
      "Epoch 74/120\n",
      "\u001b[1m199/207\u001b[0m \u001b[32m━━━━━━━━━━━━━━━━━━━\u001b[0m\u001b[37m━\u001b[0m \u001b[1m0s\u001b[0m 2ms/step - loss: 0.1298 - mae: 0.2349Epoch 74: Train R² = 0.8877, Validation R² = 0.7641\n",
      "\u001b[1m207/207\u001b[0m \u001b[32m━━━━━━━━━━━━━━━━━━━━\u001b[0m\u001b[37m\u001b[0m \u001b[1m3s\u001b[0m 11ms/step - loss: 0.1298 - mae: 0.2349 - val_loss: 0.2396 - val_mae: 0.3019\n",
      "Epoch 75/120\n",
      "\u001b[1m201/207\u001b[0m \u001b[32m━━━━━━━━━━━━━━━━━━━\u001b[0m\u001b[37m━\u001b[0m \u001b[1m0s\u001b[0m 2ms/step - loss: 0.1290 - mae: 0.2341Epoch 75: Train R² = 0.8891, Validation R² = 0.7581\n",
      "\u001b[1m207/207\u001b[0m \u001b[32m━━━━━━━━━━━━━━━━━━━━\u001b[0m\u001b[37m\u001b[0m \u001b[1m2s\u001b[0m 7ms/step - loss: 0.1292 - mae: 0.2342 - val_loss: 0.2457 - val_mae: 0.3029\n",
      "Epoch 76/120\n",
      "\u001b[1m194/207\u001b[0m \u001b[32m━━━━━━━━━━━━━━━━━━\u001b[0m\u001b[37m━━\u001b[0m \u001b[1m0s\u001b[0m 2ms/step - loss: 0.1324 - mae: 0.2382Epoch 76: Train R² = 0.8925, Validation R² = 0.7576\n",
      "\u001b[1m207/207\u001b[0m \u001b[32m━━━━━━━━━━━━━━━━━━━━\u001b[0m\u001b[37m\u001b[0m \u001b[1m2s\u001b[0m 10ms/step - loss: 0.1321 - mae: 0.2381 - val_loss: 0.2462 - val_mae: 0.3067\n",
      "Epoch 77/120\n",
      "\u001b[1m188/207\u001b[0m \u001b[32m━━━━━━━━━━━━━━━━━━\u001b[0m\u001b[37m━━\u001b[0m \u001b[1m0s\u001b[0m 2ms/step - loss: 0.1210 - mae: 0.2294Epoch 77: Train R² = 0.8883, Validation R² = 0.7601\n",
      "\u001b[1m207/207\u001b[0m \u001b[32m━━━━━━━━━━━━━━━━━━━━\u001b[0m\u001b[37m\u001b[0m \u001b[1m2s\u001b[0m 7ms/step - loss: 0.1221 - mae: 0.2299 - val_loss: 0.2437 - val_mae: 0.3057\n",
      "Epoch 78/120\n",
      "\u001b[1m201/207\u001b[0m \u001b[32m━━━━━━━━━━━━━━━━━━━\u001b[0m\u001b[37m━\u001b[0m \u001b[1m0s\u001b[0m 2ms/step - loss: 0.1407 - mae: 0.2378Epoch 78: Train R² = 0.8877, Validation R² = 0.7515\n",
      "\u001b[1m207/207\u001b[0m \u001b[32m━━━━━━━━━━━━━━━━━━━━\u001b[0m\u001b[37m\u001b[0m \u001b[1m2s\u001b[0m 10ms/step - loss: 0.1407 - mae: 0.2378 - val_loss: 0.2523 - val_mae: 0.3113\n",
      "Epoch 79/120\n",
      "\u001b[1m193/207\u001b[0m \u001b[32m━━━━━━━━━━━━━━━━━━\u001b[0m\u001b[37m━━\u001b[0m \u001b[1m0s\u001b[0m 2ms/step - loss: 0.1304 - mae: 0.2385Epoch 79: Train R² = 0.8854, Validation R² = 0.7652\n",
      "\u001b[1m207/207\u001b[0m \u001b[32m━━━━━━━━━━━━━━━━━━━━\u001b[0m\u001b[37m\u001b[0m \u001b[1m2s\u001b[0m 11ms/step - loss: 0.1305 - mae: 0.2384 - val_loss: 0.2384 - val_mae: 0.3005\n",
      "Epoch 80/120\n",
      "\u001b[1m207/207\u001b[0m \u001b[32m━━━━━━━━━━━━━━━━━━━━\u001b[0m\u001b[37m\u001b[0m \u001b[1m0s\u001b[0m 2ms/step - loss: 0.1255 - mae: 0.2300Epoch 80: Train R² = 0.8936, Validation R² = 0.7654\n",
      "\u001b[1m207/207\u001b[0m \u001b[32m━━━━━━━━━━━━━━━━━━━━\u001b[0m\u001b[37m\u001b[0m \u001b[1m2s\u001b[0m 11ms/step - loss: 0.1255 - mae: 0.2300 - val_loss: 0.2382 - val_mae: 0.2968\n",
      "Epoch 81/120\n",
      "\u001b[1m195/207\u001b[0m \u001b[32m━━━━━━━━━━━━━━━━━━\u001b[0m\u001b[37m━━\u001b[0m \u001b[1m0s\u001b[0m 3ms/step - loss: 0.1304 - mae: 0.2309Epoch 81: Train R² = 0.8919, Validation R² = 0.7598\n",
      "\u001b[1m207/207\u001b[0m \u001b[32m━━━━━━━━━━━━━━━━━━━━\u001b[0m\u001b[37m\u001b[0m \u001b[1m2s\u001b[0m 11ms/step - loss: 0.1303 - mae: 0.2310 - val_loss: 0.2439 - val_mae: 0.3043\n",
      "Epoch 82/120\n",
      "\u001b[1m194/207\u001b[0m \u001b[32m━━━━━━━━━━━━━━━━━━\u001b[0m\u001b[37m━━\u001b[0m \u001b[1m0s\u001b[0m 2ms/step - loss: 0.1273 - mae: 0.2342Epoch 82: Train R² = 0.8911, Validation R² = 0.7616\n",
      "\u001b[1m207/207\u001b[0m \u001b[32m━━━━━━━━━━━━━━━━━━━━\u001b[0m\u001b[37m\u001b[0m \u001b[1m2s\u001b[0m 7ms/step - loss: 0.1274 - mae: 0.2342 - val_loss: 0.2421 - val_mae: 0.3031\n",
      "Epoch 83/120\n",
      "\u001b[1m194/207\u001b[0m \u001b[32m━━━━━━━━━━━━━━━━━━\u001b[0m\u001b[37m━━\u001b[0m \u001b[1m0s\u001b[0m 2ms/step - loss: 0.1250 - mae: 0.2302Epoch 83: Train R² = 0.8933, Validation R² = 0.7498\n",
      "\u001b[1m207/207\u001b[0m \u001b[32m━━━━━━━━━━━━━━━━━━━━\u001b[0m\u001b[37m\u001b[0m \u001b[1m2s\u001b[0m 10ms/step - loss: 0.1252 - mae: 0.2303 - val_loss: 0.2541 - val_mae: 0.3068\n",
      "Epoch 84/120\n",
      "\u001b[1m207/207\u001b[0m \u001b[32m━━━━━━━━━━━━━━━━━━━━\u001b[0m\u001b[37m\u001b[0m \u001b[1m0s\u001b[0m 2ms/step - loss: 0.1261 - mae: 0.2318Epoch 84: Train R² = 0.8924, Validation R² = 0.7533\n",
      "\u001b[1m207/207\u001b[0m \u001b[32m━━━━━━━━━━━━━━━━━━━━\u001b[0m\u001b[37m\u001b[0m \u001b[1m2s\u001b[0m 8ms/step - loss: 0.1261 - mae: 0.2318 - val_loss: 0.2505 - val_mae: 0.3049\n",
      "Epoch 85/120\n",
      "\u001b[1m207/207\u001b[0m \u001b[32m━━━━━━━━━━━━━━━━━━━━\u001b[0m\u001b[37m\u001b[0m \u001b[1m0s\u001b[0m 2ms/step - loss: 0.1182 - mae: 0.2281Epoch 85: Train R² = 0.8903, Validation R² = 0.7545\n",
      "\u001b[1m207/207\u001b[0m \u001b[32m━━━━━━━━━━━━━━━━━━━━\u001b[0m\u001b[37m\u001b[0m \u001b[1m1s\u001b[0m 7ms/step - loss: 0.1182 - mae: 0.2281 - val_loss: 0.2493 - val_mae: 0.3105\n",
      "Epoch 86/120\n",
      "\u001b[1m199/207\u001b[0m \u001b[32m━━━━━━━━━━━━━━━━━━━\u001b[0m\u001b[37m━\u001b[0m \u001b[1m0s\u001b[0m 2ms/step - loss: 0.1219 - mae: 0.2290Epoch 86: Train R² = 0.8890, Validation R² = 0.7394\n",
      "\u001b[1m207/207\u001b[0m \u001b[32m━━━━━━━━━━━━━━━━━━━━\u001b[0m\u001b[37m\u001b[0m \u001b[1m2s\u001b[0m 11ms/step - loss: 0.1223 - mae: 0.2292 - val_loss: 0.2647 - val_mae: 0.3137\n",
      "Epoch 87/120\n",
      "\u001b[1m191/207\u001b[0m \u001b[32m━━━━━━━━━━━━━━━━━━\u001b[0m\u001b[37m━━\u001b[0m \u001b[1m0s\u001b[0m 3ms/step - loss: 0.1255 - mae: 0.2315Epoch 87: Train R² = 0.8941, Validation R² = 0.7558\n",
      "\u001b[1m207/207\u001b[0m \u001b[32m━━━━━━━━━━━━━━━━━━━━\u001b[0m\u001b[37m\u001b[0m \u001b[1m2s\u001b[0m 11ms/step - loss: 0.1259 - mae: 0.2317 - val_loss: 0.2480 - val_mae: 0.3056\n",
      "Epoch 88/120\n",
      "\u001b[1m189/207\u001b[0m \u001b[32m━━━━━━━━━━━━━━━━━━\u001b[0m\u001b[37m━━\u001b[0m \u001b[1m0s\u001b[0m 2ms/step - loss: 0.1175 - mae: 0.2263Epoch 88: Train R² = 0.8988, Validation R² = 0.7491\n",
      "\u001b[1m207/207\u001b[0m \u001b[32m━━━━━━━━━━━━━━━━━━━━\u001b[0m\u001b[37m\u001b[0m \u001b[1m2s\u001b[0m 7ms/step - loss: 0.1183 - mae: 0.2267 - val_loss: 0.2548 - val_mae: 0.3047\n",
      "Epoch 89/120\n",
      "\u001b[1m197/207\u001b[0m \u001b[32m━━━━━━━━━━━━━━━━━━━\u001b[0m\u001b[37m━\u001b[0m \u001b[1m0s\u001b[0m 2ms/step - loss: 0.1240 - mae: 0.2293Epoch 89: Train R² = 0.8899, Validation R² = 0.7586\n",
      "\u001b[1m207/207\u001b[0m \u001b[32m━━━━━━━━━━━━━━━━━━━━\u001b[0m\u001b[37m\u001b[0m \u001b[1m2s\u001b[0m 7ms/step - loss: 0.1242 - mae: 0.2294 - val_loss: 0.2452 - val_mae: 0.3053\n",
      "Epoch 90/120\n",
      "\u001b[1m194/207\u001b[0m \u001b[32m━━━━━━━━━━━━━━━━━━\u001b[0m\u001b[37m━━\u001b[0m \u001b[1m0s\u001b[0m 2ms/step - loss: 0.1339 - mae: 0.2327Epoch 90: Train R² = 0.8972, Validation R² = 0.7572\n",
      "\u001b[1m207/207\u001b[0m \u001b[32m━━━━━━━━━━━━━━━━━━━━\u001b[0m\u001b[37m\u001b[0m \u001b[1m2s\u001b[0m 7ms/step - loss: 0.1335 - mae: 0.2326 - val_loss: 0.2465 - val_mae: 0.3019\n",
      "Epoch 91/120\n",
      "\u001b[1m189/207\u001b[0m \u001b[32m━━━━━━━━━━━━━━━━━━\u001b[0m\u001b[37m━━\u001b[0m \u001b[1m0s\u001b[0m 2ms/step - loss: 0.1154 - mae: 0.2245Epoch 91: Train R² = 0.8907, Validation R² = 0.7615\n",
      "\u001b[1m207/207\u001b[0m \u001b[32m━━━━━━━━━━━━━━━━━━━━\u001b[0m\u001b[37m\u001b[0m \u001b[1m2s\u001b[0m 10ms/step - loss: 0.1161 - mae: 0.2248 - val_loss: 0.2422 - val_mae: 0.3032\n",
      "Epoch 92/120\n",
      "\u001b[1m195/207\u001b[0m \u001b[32m━━━━━━━━━━━━━━━━━━\u001b[0m\u001b[37m━━\u001b[0m \u001b[1m0s\u001b[0m 2ms/step - loss: 0.1288 - mae: 0.2286Epoch 92: Train R² = 0.8953, Validation R² = 0.7597\n",
      "\u001b[1m207/207\u001b[0m \u001b[32m━━━━━━━━━━━━━━━━━━━━\u001b[0m\u001b[37m\u001b[0m \u001b[1m2s\u001b[0m 7ms/step - loss: 0.1286 - mae: 0.2286 - val_loss: 0.2440 - val_mae: 0.3039\n",
      "Epoch 93/120\n",
      "\u001b[1m206/207\u001b[0m \u001b[32m━━━━━━━━━━━━━━━━━━━\u001b[0m\u001b[37m━\u001b[0m \u001b[1m0s\u001b[0m 2ms/step - loss: 0.1284 - mae: 0.2272Epoch 93: Train R² = 0.8979, Validation R² = 0.7542\n",
      "\u001b[1m207/207\u001b[0m \u001b[32m━━━━━━━━━━━━━━━━━━━━\u001b[0m\u001b[37m\u001b[0m \u001b[1m2s\u001b[0m 11ms/step - loss: 0.1284 - mae: 0.2272 - val_loss: 0.2496 - val_mae: 0.3016\n",
      "Epoch 94/120\n",
      "\u001b[1m206/207\u001b[0m \u001b[32m━━━━━━━━━━━━━━━━━━━\u001b[0m\u001b[37m━\u001b[0m \u001b[1m0s\u001b[0m 2ms/step - loss: 0.1250 - mae: 0.2267Epoch 94: Train R² = 0.8962, Validation R² = 0.7587\n",
      "\u001b[1m207/207\u001b[0m \u001b[32m━━━━━━━━━━━━━━━━━━━━\u001b[0m\u001b[37m\u001b[0m \u001b[1m2s\u001b[0m 12ms/step - loss: 0.1250 - mae: 0.2267 - val_loss: 0.2450 - val_mae: 0.3040\n",
      "Epoch 95/120\n",
      "\u001b[1m187/207\u001b[0m \u001b[32m━━━━━━━━━━━━━━━━━━\u001b[0m\u001b[37m━━\u001b[0m \u001b[1m0s\u001b[0m 2ms/step - loss: 0.1169 - mae: 0.2241Epoch 95: Train R² = 0.8926, Validation R² = 0.7444\n",
      "\u001b[1m207/207\u001b[0m \u001b[32m━━━━━━━━━━━━━━━━━━━━\u001b[0m\u001b[37m\u001b[0m \u001b[1m2s\u001b[0m 7ms/step - loss: 0.1174 - mae: 0.2244 - val_loss: 0.2596 - val_mae: 0.3059\n",
      "Epoch 96/120\n",
      "\u001b[1m187/207\u001b[0m \u001b[32m━━━━━━━━━━━━━━━━━━\u001b[0m\u001b[37m━━\u001b[0m \u001b[1m0s\u001b[0m 2ms/step - loss: 0.1158 - mae: 0.2231Epoch 96: Train R² = 0.8973, Validation R² = 0.7586\n",
      "\u001b[1m207/207\u001b[0m \u001b[32m━━━━━━━━━━━━━━━━━━━━\u001b[0m\u001b[37m\u001b[0m \u001b[1m3s\u001b[0m 11ms/step - loss: 0.1167 - mae: 0.2238 - val_loss: 0.2451 - val_mae: 0.3032\n",
      "Epoch 97/120\n",
      "\u001b[1m187/207\u001b[0m \u001b[32m━━━━━━━━━━━━━━━━━━\u001b[0m\u001b[37m━━\u001b[0m \u001b[1m0s\u001b[0m 2ms/step - loss: 0.1248 - mae: 0.2238Epoch 97: Train R² = 0.8975, Validation R² = 0.7422\n",
      "\u001b[1m207/207\u001b[0m \u001b[32m━━━━━━━━━━━━━━━━━━━━\u001b[0m\u001b[37m\u001b[0m \u001b[1m1s\u001b[0m 7ms/step - loss: 0.1249 - mae: 0.2242 - val_loss: 0.2618 - val_mae: 0.3063\n",
      "Epoch 98/120\n",
      "\u001b[1m194/207\u001b[0m \u001b[32m━━━━━━━━━━━━━━━━━━\u001b[0m\u001b[37m━━\u001b[0m \u001b[1m0s\u001b[0m 2ms/step - loss: 0.1183 - mae: 0.2243Epoch 98: Train R² = 0.9005, Validation R² = 0.7509\n",
      "\u001b[1m207/207\u001b[0m \u001b[32m━━━━━━━━━━━━━━━━━━━━\u001b[0m\u001b[37m\u001b[0m \u001b[1m2s\u001b[0m 7ms/step - loss: 0.1187 - mae: 0.2245 - val_loss: 0.2530 - val_mae: 0.3056\n",
      "Epoch 99/120\n",
      "\u001b[1m201/207\u001b[0m \u001b[32m━━━━━━━━━━━━━━━━━━━\u001b[0m\u001b[37m━\u001b[0m \u001b[1m0s\u001b[0m 3ms/step - loss: 0.1164 - mae: 0.2212Epoch 99: Train R² = 0.8987, Validation R² = 0.7547\n",
      "\u001b[1m207/207\u001b[0m \u001b[32m━━━━━━━━━━━━━━━━━━━━\u001b[0m\u001b[37m\u001b[0m \u001b[1m3s\u001b[0m 11ms/step - loss: 0.1166 - mae: 0.2214 - val_loss: 0.2491 - val_mae: 0.3027\n",
      "Epoch 100/120\n",
      "\u001b[1m202/207\u001b[0m \u001b[32m━━━━━━━━━━━━━━━━━━━\u001b[0m\u001b[37m━\u001b[0m \u001b[1m0s\u001b[0m 2ms/step - loss: 0.1124 - mae: 0.2193Epoch 100: Train R² = 0.9008, Validation R² = 0.7512\n",
      "\u001b[1m207/207\u001b[0m \u001b[32m━━━━━━━━━━━━━━━━━━━━\u001b[0m\u001b[37m\u001b[0m \u001b[1m2s\u001b[0m 7ms/step - loss: 0.1126 - mae: 0.2195 - val_loss: 0.2527 - val_mae: 0.3035\n",
      "Epoch 101/120\n",
      "\u001b[1m194/207\u001b[0m \u001b[32m━━━━━━━━━━━━━━━━━━\u001b[0m\u001b[37m━━\u001b[0m \u001b[1m0s\u001b[0m 2ms/step - loss: 0.1212 - mae: 0.2250Epoch 101: Train R² = 0.8996, Validation R² = 0.7502\n",
      "\u001b[1m207/207\u001b[0m \u001b[32m━━━━━━━━━━━━━━━━━━━━\u001b[0m\u001b[37m\u001b[0m \u001b[1m3s\u001b[0m 7ms/step - loss: 0.1213 - mae: 0.2251 - val_loss: 0.2537 - val_mae: 0.3063\n",
      "Epoch 102/120\n",
      "\u001b[1m196/207\u001b[0m \u001b[32m━━━━━━━━━━━━━━━━━━\u001b[0m\u001b[37m━━\u001b[0m \u001b[1m0s\u001b[0m 2ms/step - loss: 0.1228 - mae: 0.2263Epoch 102: Train R² = 0.8997, Validation R² = 0.7587\n",
      "\u001b[1m207/207\u001b[0m \u001b[32m━━━━━━━━━━━━━━━━━━━━\u001b[0m\u001b[37m\u001b[0m \u001b[1m3s\u001b[0m 7ms/step - loss: 0.1228 - mae: 0.2263 - val_loss: 0.2451 - val_mae: 0.3011\n",
      "Epoch 103/120\n",
      "\u001b[1m184/207\u001b[0m \u001b[32m━━━━━━━━━━━━━━━━━\u001b[0m\u001b[37m━━━\u001b[0m \u001b[1m0s\u001b[0m 2ms/step - loss: 0.1161 - mae: 0.2189Epoch 103: Train R² = 0.8991, Validation R² = 0.7564\n",
      "\u001b[1m207/207\u001b[0m \u001b[32m━━━━━━━━━━━━━━━━━━━━\u001b[0m\u001b[37m\u001b[0m \u001b[1m2s\u001b[0m 8ms/step - loss: 0.1165 - mae: 0.2194 - val_loss: 0.2474 - val_mae: 0.3000\n",
      "Epoch 104/120\n",
      "\u001b[1m187/207\u001b[0m \u001b[32m━━━━━━━━━━━━━━━━━━\u001b[0m\u001b[37m━━\u001b[0m \u001b[1m0s\u001b[0m 2ms/step - loss: 0.1109 - mae: 0.2181Epoch 104: Train R² = 0.8988, Validation R² = 0.7521\n",
      "\u001b[1m207/207\u001b[0m \u001b[32m━━━━━━━━━━━━━━━━━━━━\u001b[0m\u001b[37m\u001b[0m \u001b[1m2s\u001b[0m 8ms/step - loss: 0.1118 - mae: 0.2187 - val_loss: 0.2517 - val_mae: 0.3031\n",
      "Epoch 105/120\n",
      "\u001b[1m193/207\u001b[0m \u001b[32m━━━━━━━━━━━━━━━━━━\u001b[0m\u001b[37m━━\u001b[0m \u001b[1m0s\u001b[0m 3ms/step - loss: 0.1177 - mae: 0.2213Epoch 105: Train R² = 0.8983, Validation R² = 0.7486\n",
      "\u001b[1m207/207\u001b[0m \u001b[32m━━━━━━━━━━━━━━━━━━━━\u001b[0m\u001b[37m\u001b[0m \u001b[1m3s\u001b[0m 12ms/step - loss: 0.1177 - mae: 0.2214 - val_loss: 0.2553 - val_mae: 0.3048\n",
      "Epoch 106/120\n",
      "\u001b[1m190/207\u001b[0m \u001b[32m━━━━━━━━━━━━━━━━━━\u001b[0m\u001b[37m━━\u001b[0m \u001b[1m0s\u001b[0m 2ms/step - loss: 0.1163 - mae: 0.2233Epoch 106: Train R² = 0.8927, Validation R² = 0.7449\n",
      "\u001b[1m207/207\u001b[0m \u001b[32m━━━━━━━━━━━━━━━━━━━━\u001b[0m\u001b[37m\u001b[0m \u001b[1m1s\u001b[0m 7ms/step - loss: 0.1169 - mae: 0.2234 - val_loss: 0.2591 - val_mae: 0.3115\n",
      "Epoch 107/120\n",
      "\u001b[1m200/207\u001b[0m \u001b[32m━━━━━━━━━━━━━━━━━━━\u001b[0m\u001b[37m━\u001b[0m \u001b[1m0s\u001b[0m 2ms/step - loss: 0.1245 - mae: 0.2276Epoch 107: Train R² = 0.8989, Validation R² = 0.7466\n",
      "\u001b[1m207/207\u001b[0m \u001b[32m━━━━━━━━━━━━━━━━━━━━\u001b[0m\u001b[37m\u001b[0m \u001b[1m3s\u001b[0m 10ms/step - loss: 0.1244 - mae: 0.2275 - val_loss: 0.2574 - val_mae: 0.3077\n",
      "Epoch 108/120\n",
      "\u001b[1m204/207\u001b[0m \u001b[32m━━━━━━━━━━━━━━━━━━━\u001b[0m\u001b[37m━\u001b[0m \u001b[1m0s\u001b[0m 2ms/step - loss: 0.1149 - mae: 0.2207Epoch 108: Train R² = 0.9014, Validation R² = 0.7420\n",
      "\u001b[1m207/207\u001b[0m \u001b[32m━━━━━━━━━━━━━━━━━━━━\u001b[0m\u001b[37m\u001b[0m \u001b[1m2s\u001b[0m 10ms/step - loss: 0.1150 - mae: 0.2208 - val_loss: 0.2620 - val_mae: 0.3029\n",
      "Epoch 109/120\n",
      "\u001b[1m199/207\u001b[0m \u001b[32m━━━━━━━━━━━━━━━━━━━\u001b[0m\u001b[37m━\u001b[0m \u001b[1m0s\u001b[0m 2ms/step - loss: 0.1202 - mae: 0.2234Epoch 109: Train R² = 0.9005, Validation R² = 0.7462\n",
      "\u001b[1m207/207\u001b[0m \u001b[32m━━━━━━━━━━━━━━━━━━━━\u001b[0m\u001b[37m\u001b[0m \u001b[1m1s\u001b[0m 7ms/step - loss: 0.1203 - mae: 0.2234 - val_loss: 0.2578 - val_mae: 0.3076\n",
      "Epoch 110/120\n",
      "\u001b[1m197/207\u001b[0m \u001b[32m━━━━━━━━━━━━━━━━━━━\u001b[0m\u001b[37m━\u001b[0m \u001b[1m0s\u001b[0m 2ms/step - loss: 0.1146 - mae: 0.2181Epoch 110: Train R² = 0.9043, Validation R² = 0.7519\n",
      "\u001b[1m207/207\u001b[0m \u001b[32m━━━━━━━━━━━━━━━━━━━━\u001b[0m\u001b[37m\u001b[0m \u001b[1m2s\u001b[0m 8ms/step - loss: 0.1149 - mae: 0.2184 - val_loss: 0.2520 - val_mae: 0.3032\n",
      "Epoch 111/120\n",
      "\u001b[1m190/207\u001b[0m \u001b[32m━━━━━━━━━━━━━━━━━━\u001b[0m\u001b[37m━━\u001b[0m \u001b[1m0s\u001b[0m 3ms/step - loss: 0.1193 - mae: 0.2224Epoch 111: Train R² = 0.8975, Validation R² = 0.7530\n",
      "\u001b[1m207/207\u001b[0m \u001b[32m━━━━━━━━━━━━━━━━━━━━\u001b[0m\u001b[37m\u001b[0m \u001b[1m3s\u001b[0m 12ms/step - loss: 0.1193 - mae: 0.2226 - val_loss: 0.2508 - val_mae: 0.3079\n",
      "Epoch 112/120\n",
      "\u001b[1m204/207\u001b[0m \u001b[32m━━━━━━━━━━━━━━━━━━━\u001b[0m\u001b[37m━\u001b[0m \u001b[1m0s\u001b[0m 2ms/step - loss: 0.1108 - mae: 0.2175Epoch 112: Train R² = 0.8973, Validation R² = 0.7432\n",
      "\u001b[1m207/207\u001b[0m \u001b[32m━━━━━━━━━━━━━━━━━━━━\u001b[0m\u001b[37m\u001b[0m \u001b[1m4s\u001b[0m 7ms/step - loss: 0.1109 - mae: 0.2176 - val_loss: 0.2607 - val_mae: 0.3091\n",
      "Epoch 113/120\n",
      "\u001b[1m192/207\u001b[0m \u001b[32m━━━━━━━━━━━━━━━━━━\u001b[0m\u001b[37m━━\u001b[0m \u001b[1m0s\u001b[0m 2ms/step - loss: 0.1274 - mae: 0.2272Epoch 113: Train R² = 0.9062, Validation R² = 0.7485\n",
      "\u001b[1m207/207\u001b[0m \u001b[32m━━━━━━━━━━━━━━━━━━━━\u001b[0m\u001b[37m\u001b[0m \u001b[1m2s\u001b[0m 10ms/step - loss: 0.1267 - mae: 0.2269 - val_loss: 0.2554 - val_mae: 0.3037\n",
      "Epoch 114/120\n",
      "\u001b[1m193/207\u001b[0m \u001b[32m━━━━━━━━━━━━━━━━━━\u001b[0m\u001b[37m━━\u001b[0m \u001b[1m0s\u001b[0m 2ms/step - loss: 0.1085 - mae: 0.2155Epoch 114: Train R² = 0.9001, Validation R² = 0.7570\n",
      "\u001b[1m207/207\u001b[0m \u001b[32m━━━━━━━━━━━━━━━━━━━━\u001b[0m\u001b[37m\u001b[0m \u001b[1m1s\u001b[0m 7ms/step - loss: 0.1091 - mae: 0.2159 - val_loss: 0.2468 - val_mae: 0.3004\n",
      "Epoch 115/120\n",
      "\u001b[1m200/207\u001b[0m \u001b[32m━━━━━━━━━━━━━━━━━━━\u001b[0m\u001b[37m━\u001b[0m \u001b[1m0s\u001b[0m 2ms/step - loss: 0.1143 - mae: 0.2184Epoch 115: Train R² = 0.9046, Validation R² = 0.7498\n",
      "\u001b[1m207/207\u001b[0m \u001b[32m━━━━━━━━━━━━━━━━━━━━\u001b[0m\u001b[37m\u001b[0m \u001b[1m3s\u001b[0m 7ms/step - loss: 0.1144 - mae: 0.2185 - val_loss: 0.2541 - val_mae: 0.3023\n",
      "Epoch 116/120\n",
      "\u001b[1m196/207\u001b[0m \u001b[32m━━━━━━━━━━━━━━━━━━\u001b[0m\u001b[37m━━\u001b[0m \u001b[1m0s\u001b[0m 3ms/step - loss: 0.1189 - mae: 0.2219Epoch 116: Train R² = 0.8991, Validation R² = 0.7418\n",
      "\u001b[1m207/207\u001b[0m \u001b[32m━━━━━━━━━━━━━━━━━━━━\u001b[0m\u001b[37m\u001b[0m \u001b[1m3s\u001b[0m 12ms/step - loss: 0.1189 - mae: 0.2221 - val_loss: 0.2622 - val_mae: 0.3060\n",
      "Epoch 117/120\n",
      "\u001b[1m197/207\u001b[0m \u001b[32m━━━━━━━━━━━━━━━━━━━\u001b[0m\u001b[37m━\u001b[0m \u001b[1m0s\u001b[0m 2ms/step - loss: 0.1141 - mae: 0.2177Epoch 117: Train R² = 0.9041, Validation R² = 0.7565\n",
      "\u001b[1m207/207\u001b[0m \u001b[32m━━━━━━━━━━━━━━━━━━━━\u001b[0m\u001b[37m\u001b[0m \u001b[1m2s\u001b[0m 10ms/step - loss: 0.1142 - mae: 0.2179 - val_loss: 0.2473 - val_mae: 0.3040\n",
      "Epoch 118/120\n",
      "\u001b[1m196/207\u001b[0m \u001b[32m━━━━━━━━━━━━━━━━━━\u001b[0m\u001b[37m━━\u001b[0m \u001b[1m0s\u001b[0m 2ms/step - loss: 0.1117 - mae: 0.2156Epoch 118: Train R² = 0.9065, Validation R² = 0.7530\n",
      "\u001b[1m207/207\u001b[0m \u001b[32m━━━━━━━━━━━━━━━━━━━━\u001b[0m\u001b[37m\u001b[0m \u001b[1m2s\u001b[0m 7ms/step - loss: 0.1121 - mae: 0.2160 - val_loss: 0.2509 - val_mae: 0.3019\n",
      "Epoch 119/120\n",
      "\u001b[1m199/207\u001b[0m \u001b[32m━━━━━━━━━━━━━━━━━━━\u001b[0m\u001b[37m━\u001b[0m \u001b[1m0s\u001b[0m 2ms/step - loss: 0.1184 - mae: 0.2194Epoch 119: Train R² = 0.9047, Validation R² = 0.7506\n",
      "\u001b[1m207/207\u001b[0m \u001b[32m━━━━━━━━━━━━━━━━━━━━\u001b[0m\u001b[37m\u001b[0m \u001b[1m3s\u001b[0m 10ms/step - loss: 0.1182 - mae: 0.2193 - val_loss: 0.2533 - val_mae: 0.3042\n",
      "Epoch 120/120\n",
      "\u001b[1m204/207\u001b[0m \u001b[32m━━━━━━━━━━━━━━━━━━━\u001b[0m\u001b[37m━\u001b[0m \u001b[1m0s\u001b[0m 2ms/step - loss: 0.1162 - mae: 0.2199Epoch 120: Train R² = 0.9040, Validation R² = 0.7496\n",
      "\u001b[1m207/207\u001b[0m \u001b[32m━━━━━━━━━━━━━━━━━━━━\u001b[0m\u001b[37m\u001b[0m \u001b[1m2s\u001b[0m 7ms/step - loss: 0.1162 - mae: 0.2199 - val_loss: 0.2543 - val_mae: 0.3084\n",
      "\u001b[1m414/414\u001b[0m \u001b[32m━━━━━━━━━━━━━━━━━━━━\u001b[0m\u001b[37m\u001b[0m \u001b[1m1s\u001b[0m 2ms/step\n",
      "\u001b[1m104/104\u001b[0m \u001b[32m━━━━━━━━━━━━━━━━━━━━\u001b[0m\u001b[37m\u001b[0m \u001b[1m0s\u001b[0m 2ms/step\n",
      "\n",
      "Model Performance:\n",
      "Train R² Score: 0.9040\n",
      "Test R² Score: 0.7496\n",
      "Train MSE: 444092022150.6332\n",
      "Test MSE: 1176050174412.1990\n",
      "Train MAE: 416412.9144\n",
      "Test MAE: 663177.4942\n"
     ]
    }
   ],
   "source": [
    "# Custom callback to calculate and display R² score after each epoch\n",
    "class R2ScoreCallback(tf.keras.callbacks.Callback):\n",
    "    def __init__(self, X_train, y_train, X_val, y_val, scaler_y):\n",
    "        super().__init__()\n",
    "        self.X_train = X_train\n",
    "        self.y_train = y_train\n",
    "        self.X_val = X_val\n",
    "        self.y_val = y_val\n",
    "        self.scaler_y = scaler_y\n",
    "\n",
    "    def on_epoch_end(self, epoch, logs=None):\n",
    "        y_train_pred = self.model.predict(self.X_train, verbose=0)\n",
    "        y_val_pred = self.model.predict(self.X_val, verbose=0)\n",
    "\n",
    "        # Inverse transform the scaled predictions and targets\n",
    "        y_train_pred = self.scaler_y.inverse_transform(y_train_pred)\n",
    "        y_val_pred = self.scaler_y.inverse_transform(y_val_pred)\n",
    "        y_train_true = self.scaler_y.inverse_transform(self.y_train)\n",
    "        y_val_true = self.scaler_y.inverse_transform(self.y_val)\n",
    "\n",
    "        # Calculate R² scores\n",
    "        r2_train = r2_score(y_train_true, y_train_pred)\n",
    "        r2_val = r2_score(y_val_true, y_val_pred)\n",
    "\n",
    "        print(f\"Epoch {epoch + 1}: Train R² = {r2_train:.4f}, Validation R² = {r2_val:.4f}\")\n",
    "\n",
    "# Standardizing the data\n",
    "scaler_X = StandardScaler()\n",
    "X_train_scaled = scaler_X.fit_transform(X_train)\n",
    "X_test_scaled = scaler_X.transform(X_test)\n",
    "\n",
    "scaler_y = StandardScaler()\n",
    "y_train_scaled = scaler_y.fit_transform(y_train)\n",
    "y_test_scaled = scaler_y.transform(y_test)\n",
    "\n",
    "# Define the NN architecture\n",
    "nn_model = Sequential()\n",
    "\n",
    "# Input layer and first hidden layer\n",
    "nn_model.add(Dense(128, input_dim=X_train_scaled.shape[1], activation='relu'))\n",
    "\n",
    "# Second hidden layer\n",
    "nn_model.add(Dense(64, activation='relu'))\n",
    "\n",
    "# Third hidden layer\n",
    "nn_model.add(Dense(32, activation='relu'))\n",
    "\n",
    "# Optional: Dropout layer\n",
    "nn_model.add(Dropout(0.1))\n",
    "\n",
    "# Output layer\n",
    "nn_model.add(Dense(1, activation='linear'))\n",
    "\n",
    "# Compile the model\n",
    "nn_model.compile(optimizer=Adam(learning_rate=0.001), loss='mse', metrics=['mae'])\n",
    "\n",
    "# Train the model with R² callback\n",
    "history = nn_model.fit(\n",
    "    X_train_scaled, y_train_scaled,\n",
    "    validation_data=(X_test_scaled, y_test_scaled),\n",
    "    epochs=120, \n",
    "    batch_size=64,\n",
    "    verbose=1,\n",
    "    callbacks=[R2ScoreCallback(X_train_scaled, y_train_scaled, X_test_scaled, y_test_scaled, scaler_y)]\n",
    ")\n",
    "\n",
    "# Final evaluation\n",
    "y_pred_train = scaler_y.inverse_transform(nn_model.predict(X_train_scaled))\n",
    "y_pred_test = scaler_y.inverse_transform(nn_model.predict(X_test_scaled))\n",
    "\n",
    "# Calculate metrics\n",
    "r2_train = r2_score(y_train, y_pred_train)\n",
    "r2_test = r2_score(y_test, y_pred_test)\n",
    "mse_train = mean_squared_error(y_train, y_pred_train)\n",
    "mse_test = mean_squared_error(y_test, y_pred_test)\n",
    "mae_train = mean_absolute_error(y_train, y_pred_train)\n",
    "mae_test = mean_absolute_error(y_test, y_pred_test)\n",
    "\n",
    "# Display metrics\n",
    "print(\"\\nModel Performance:\")\n",
    "print(f\"Train R² Score: {r2_train:.4f}\")\n",
    "print(f\"Test R² Score: {r2_test:.4f}\")\n",
    "print(f\"Train MSE: {mse_train:.4f}\")\n",
    "print(f\"Test MSE: {mse_test:.4f}\")\n",
    "print(f\"Train MAE: {mae_train:.4f}\")\n",
    "print(f\"Test MAE: {mae_test:.4f}\")\n"
   ]
  }
 ],
 "metadata": {
  "accelerator": "GPU",
  "colab": {
   "gpuType": "T4",
   "provenance": []
  },
  "kernelspec": {
   "display_name": "Python 3",
   "name": "python3"
  },
  "language_info": {
   "codemirror_mode": {
    "name": "ipython",
    "version": 3
   },
   "file_extension": ".py",
   "mimetype": "text/x-python",
   "name": "python",
   "nbconvert_exporter": "python",
   "pygments_lexer": "ipython3",
   "version": "3.10.12"
  },
  "papermill": {
   "default_parameters": {},
   "duration": 44.198569,
   "end_time": "2023-11-11T17:53:55.099622",
   "environment_variables": {},
   "exception": null,
   "input_path": "__notebook__.ipynb",
   "output_path": "__notebook__.ipynb",
   "parameters": {},
   "start_time": "2023-11-11T17:53:10.901053",
   "version": "2.4.0"
  }
 },
 "nbformat": 4,
 "nbformat_minor": 5
}
